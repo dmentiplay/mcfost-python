{
 "metadata": {
  "name": ""
 },
 "nbformat": 3,
 "nbformat_minor": 0,
 "worksheets": [
  {
   "cells": [
    {
     "cell_type": "heading",
     "level": 1,
     "metadata": {},
     "source": [
      "MCFOST Python Library Demo"
     ]
    },
    {
     "cell_type": "markdown",
     "metadata": {},
     "source": [
      "This demo assumes you are running this notebook from a directory containing a subdirectory named 'sample' which contains the results of running MCFOST on the ref2.17.para sample parameter file, to produce an SED and an image at 1.0 microns, as follows:\n",
      "\n",
      "   >  mcfost ref2.17.para -rt\n",
      "\n",
      "   >  mcfost ref2.17.para -img 1.0 -rt"
     ]
    },
    {
     "cell_type": "code",
     "collapsed": false,
     "input": [
      "%load_ext autoreload\n",
      "%autoreload 1\n",
      "%aimport mcfost"
     ],
     "language": "python",
     "metadata": {},
     "outputs": [],
     "prompt_number": 1
    },
    {
     "cell_type": "heading",
     "level": 2,
     "metadata": {},
     "source": [
      "Working with Parameter Files"
     ]
    },
    {
     "cell_type": "markdown",
     "metadata": {},
     "source": [
      "We can read in parameter files into an object:"
     ]
    },
    {
     "cell_type": "code",
     "collapsed": false,
     "input": [
      "par = mcfost.Paramfile('esoha569/esoha569.para')"
     ],
     "language": "python",
     "metadata": {},
     "outputs": [],
     "prompt_number": 2
    },
    {
     "cell_type": "markdown",
     "metadata": {},
     "source": [
      "The resulting object's attributes provide read/write access to all the settings in that parameter file."
     ]
    },
    {
     "cell_type": "code",
     "collapsed": false,
     "input": [
      "print par"
     ],
     "language": "python",
     "metadata": {},
     "outputs": [
      {
       "output_type": "stream",
       "stream": "stdout",
       "text": [
        "2.19                      mcfost version\n",
        "\n",
        "#Number of photon packages\n",
        "  1.28e+05                nbr_photons_eq_th  : T computation\n",
        "  1280                    nbr_photons_lambda : SED computation\n",
        "  1.28e+05                nbr_photons_image : images computation\n",
        "\n",
        "#Wavelength\n",
        "  30  0.1   3500          n_lambda, lambda_min, lambda_max [microns]\n",
        "  T T T                   compute temperature?, compute sed?, use default wavelength grid ?\n",
        "  HD141569A_2.lambda           wavelength file (if previous parameter is F)\n",
        "  F F                     separation of different contributions?, stokes parameters?\n",
        "\n",
        "#Grid geometry and size\n",
        "  1                       1 = cylindrical, 2 = spherical, 3 = Voronoi tesselation (this is in beta, please ask Christophe)\n",
        "  150  50  1 40           n_rad (log distribution), nz (or n_theta), n_az, n_rad_in\n",
        "\n",
        "#Maps\n",
        "  50   50 392.0        grid (nx,ny), size [AU]\n",
        "  50 1               MC : N_bin_incl, N_bin_az\n",
        "  60.0  90.0  15 T    RT: imin, imax, n_incl, centered ?\n",
        "  160.00                 distance (pc)\n",
        "  0.00                    disk PA\n",
        "  \n",
        "#Scattering method\n",
        "  0                      0=auto, 1=grain prop, 2=cell prop\n",
        "  1                      1=Mie, 2=hg (2 implies the loss of polarizarion) \n",
        "\n",
        "#Symmetries\n",
        "  T                      image symmetry\n",
        "  T                      central symmetry\n",
        "  T                      axial symmetry (important only if N_phi > 1)\n",
        "\n",
        "#Disk physics\n",
        "  0  0.05    1.00        dust_settling (0=no settling, 1=parametric, 2=Dubrulle, 3=Fromang), exp_strat, a_strat (for parametric settling)\n",
        "  F                       dust radial migration\n",
        "  F                      sublimate dust\n",
        "  F                       hydrostatic equilibrium\n",
        "  F  1e-05                 viscous heating, alpha_viscosity\n",
        "\n",
        "#Number of zones : 1 zone = 1 density structure + corresponding grain properties\n",
        "  1\n",
        "      \n",
        "#Density structure\n",
        "  2                       zone type : 1 = disk, 2 = tapered-edge disk, 3 = envelope, 4 = debris disk, 5 = wall\n",
        "  1.00e-04   100.0        dust mass,  gas-to-dust mass ratio\n",
        "  5.0    100.0  0.0             scale height, reference radius (AU), unused for envelope, vertical profile exponent (only for debris disk)\n",
        "  0.1     0.0    125.0  15.0    Rin, edge, Rout, Rc (AU) Rc is only used for tappered-edge & debris disks (Rout set to 8*Rc if Rout==0)\n",
        "  1.000                     flaring exponent, unused for envelope\n",
        "  -1.500 0.000                 surface density exponent (or -gamma for tappered-edge disk or volume density for envelope), usually < 0, -gamma_exp (or alpha_in & alpha_out for debris disk)\n",
        "        \n",
        "#Cavity : everything is empty above the surface\n",
        "  F                        cavity ?\n",
        "  15.0   50.0              height, reference radius (AU)\n",
        "  1.5                      flaring exponent\n",
        "        \n",
        "#Grain properties\n",
        "  1                       Number of species\n",
        "  Mie 1  1 0.00  1.00  0.9     Grain type (Mie or DHS), N_components, mixing rule (1 = EMT or 2 = coating),  porosity, mass fraction, Vmax (for DHS)\n",
        "  Olivine_modif.dat  1.0    Optical indices file, volume fraction\n",
        "  1                       Heating method : 1 = RE + LTE, 2 = RE + NLTE, 3 = NRE\n",
        "  0.030   100.0   3.5 100   amin, amax, aexp, nbr_grains\n",
        "       \n",
        "#Molecular RT settings\n",
        "  T T T 15.              lpop, laccurate_pop, LTE, profile width\n",
        "  0.2                    v_turb (delta)\n",
        "  1                      nmol\n",
        "  co@xpol.dat 6          molecular data filename, level_max\n",
        "  1.0 50                 vmax (km.s-1), n_speed\n",
        "  T 1.e-6 abundance.fits.gz   cst molecule abundance ?, abundance, abundance file\n",
        "  T  3                   ray tracing ?,  number of lines in ray-tracing\n",
        "  1 2 3                  transition numbers\n",
        "      \n",
        "#Star properties\n",
        "  1 Number of stars\n",
        "  3500.0    1.1   0.3   0.0   0.0   0.0 T       Temp, radius (solar radius),M (solar mass),x,y,z (AU), is a blackbody?\n",
        "  lte3500-3.5.NextGen.fits.gz\n",
        "  0.0    2.2       fUV, slope_fUV \n"
       ]
      }
     ],
     "prompt_number": 3
    },
    {
     "cell_type": "code",
     "collapsed": false,
     "input": [
      "print \"Distance:\", par.distance, 'pc'\n",
      "print \"Wavelength range:\", min(par.wavelengths), \" to\", max(par.wavelengths), \"microns\"\n",
      "print \"Inclination:\", par.RT_imin, 'degrees'\n",
      "print \"Inclination:\", par.RT_imax, 'degrees'\n",
      "print \"Inclination:\", par.RT_n_incl, 'degrees'\n",
      "par.RT_imax = 75.0\n",
      "par.RT_imin = 75.0\n",
      "par.RT_n_incl = 1\n",
      "print \"Inclination:\", par.RT_imin, 'degrees'\n",
      "print \"Inclination:\", par.RT_imax, 'degrees'\n",
      "print \"Inclination:\", par.RT_n_incl, 'degrees'\n",
      "print \"scale height\", par.set_parameter('scale_height',30), 'au'\n",
      "print \"Changing distance to 200 pc\"\n",
      "par.distance = 200\n",
      "print \"Distance:\", par.distance, 'pc'\n"
     ],
     "language": "python",
     "metadata": {},
     "outputs": [
      {
       "output_type": "stream",
       "stream": "stdout",
       "text": [
        "Distance: 160.0 pc\n",
        "Wavelength range: 0.11905138917  to 2939.906896 microns\n",
        "Inclination: 60.0 degrees\n",
        "Inclination: 90.0 degrees\n",
        "Inclination: 15 degrees\n",
        "Inclination: 75.0 degrees\n",
        "Inclination: 75.0 degrees\n",
        "Inclination: 1 degrees\n",
        "scale height None au\n",
        "Changing distance to 200 pc\n",
        "Distance: 200 pc\n"
       ]
      }
     ],
     "prompt_number": 4
    },
    {
     "cell_type": "markdown",
     "metadata": {},
     "source": [
      "This also includes some quantities which are computed from the parameters, not directly stated in the parameter file:"
     ]
    },
    {
     "cell_type": "code",
     "collapsed": false,
     "input": [
      "print \"Wavelengths\", par.wavelengths\n",
      "print \"Inclinations in RT mode: \", par.inclinations"
     ],
     "language": "python",
     "metadata": {},
     "outputs": [
      {
       "output_type": "stream",
       "stream": "stdout",
       "text": [
        "Wavelengths [  1.19051389e-01   1.68734311e-01   2.39151075e-01   3.38954397e-01\n",
        "   4.80407973e-01   6.80893427e-01   9.65046136e-01   1.36778240e+00\n",
        "   1.93858990e+00   2.74760869e+00   3.89424988e+00   5.51941120e+00\n",
        "   7.82279024e+00   1.10874231e+01   1.57144634e+01   2.22724755e+01\n",
        "   3.15672990e+01   4.47410693e+01   6.34125611e+01   8.98761021e+01\n",
        "   1.27383496e+02   1.80543600e+02   2.55888656e+02   3.62676961e+02\n",
        "   5.14030517e+02   7.28547442e+02   1.03258728e+03   1.46351004e+03\n",
        "   2.07426692e+03   2.93990690e+03]\n",
        "Inclinations in RT mode:  [ 61.09666546  63.25631605  65.37568165  67.45968954  69.51268489\n",
        "  71.5385417   73.54075037  75.52248781  77.48667464  79.43602241\n",
        "  81.37307344  83.30023482  85.21980815  87.13401602  89.04502613]\n"
       ]
      }
     ],
     "prompt_number": 5
    },
    {
     "cell_type": "markdown",
     "metadata": {},
     "source": [
      "Some of the items which can be repeated multiple times in a parameter files are stored as lists of dicts.  For instance, there's a \"density_zones\" list attribute (which can have multiple entries if there are multiple zones defined), each of which in turn contains a \"dust\" list attribute (which can have multiple entries if that zone has more than one type of dust.)"
     ]
    },
    {
     "cell_type": "code",
     "collapsed": false,
     "input": [
      "print par.density_zones"
     ],
     "language": "python",
     "metadata": {},
     "outputs": [
      {
       "output_type": "stream",
       "stream": "stdout",
       "text": [
        "[{'debris_disk_vertical_profile_exponent': 0.0, 'scale_height': 30, 'gamma_exp': 0.0, 'flaring_exp': 1.0, 'r_in': 0.1, 'r_out': 125.0, 'gas_to_dust_ratio': 100.0, 'dust_mass': 0.0001, 'dust': [{'amin': 0.029999999, 'mass_fraction': 1.0, 'ngrains': 100, 'aexp': 3.5, 'heating': 1, 'grain_type': 'Mie', 'filename': 'Olivine_modif.dat', 'mixing_rule': 1, 'ncomponents': 1, 'porosity': 0.0, 'volume_fraction': 1.0, 'amax': 100.0}], 'edge': 0.0, 'grain_type': 'Mie', 'dust_nspecies': 1, 'zone_type': 2, 'r_critical': 15.0, 'reference_radius': 100.0, 'surface_density_exp': -1.5}]\n"
       ]
      }
     ],
     "prompt_number": 6
    },
    {
     "cell_type": "markdown",
     "metadata": {},
     "source": [
      "**Cautionary Note:** The API for this all could use some cleanup; the names used for the various different parameter settings are not entirely consistent. We should think some about how much we can try for consistent naming conventions between the Python, IDL, Yorick variable names and the name/descriptions used in the software manual.  And furthermore the Python code here is not yet consistent in terms of using objects with attributes versus dicts. This needs to be made better, time permitting. "
     ]
    },
    {
     "cell_type": "markdown",
     "metadata": {},
     "source": [
      "You can of course get a parameter file back into text form just by casting it to a string, and there is a \".writeto()\" method to save it to a file."
     ]
    },
    {
     "cell_type": "code",
     "collapsed": false,
     "input": [
      "print par.writeto('newparam.para')"
     ],
     "language": "python",
     "metadata": {},
     "outputs": [
      {
       "output_type": "stream",
       "stream": "stdout",
       "text": [
        "  ==>> newparam.para\n",
        "None\n"
       ]
      }
     ],
     "prompt_number": 7
    },
    {
     "cell_type": "heading",
     "level": 2,
     "metadata": {},
     "source": [
      "Working with Model Results"
     ]
    },
    {
     "cell_type": "markdown",
     "metadata": {},
     "source": [
      "The ModelResults class provides an interface to work with MCFOST model results for *a single model*. You instantiate it with a directory path to an MCFOST results directory (i.e. the parent directory that contains 'data_th' as a subdirectory.)\n"
     ]
    },
    {
     "cell_type": "code",
     "collapsed": false,
     "input": [
      "%load_ext autoreload\n",
      "%autoreload 2\n",
      "%aimport mcfost\n",
      "reload(mcfost)"
     ],
     "language": "python",
     "metadata": {},
     "outputs": [
      {
       "output_type": "stream",
       "stream": "stdout",
       "text": [
        "The autoreload extension is already loaded. To reload it, use:\n",
        "  %reload_ext autoreload\n"
       ]
      },
      {
       "metadata": {},
       "output_type": "pyout",
       "prompt_number": 8,
       "text": [
        "<module 'mcfost' from 'mcfost/__init__.pyc'>"
       ]
      }
     ],
     "prompt_number": 8
    },
    {
     "cell_type": "code",
     "collapsed": false,
     "input": [
      "model = mcfost.ModelResults('/Users/swolff/Disks/mcfost-python/docs/example/')\n",
      "print model\n",
      "model.images.filenames"
     ],
     "language": "python",
     "metadata": {},
     "outputs": [
      {
       "output_type": "stream",
       "stream": "stdout",
       "text": [
        "<MCFOST ModelResults in directory '/Users/swolff/Disks/mcfost-python/docs/example'>\n"
       ]
      },
      {
       "metadata": {},
       "output_type": "pyout",
       "prompt_number": 9,
       "text": [
        "['/Users/swolff/Disks/mcfost-python/docs/example/data_1.0/RT.fits.gz']"
       ]
      }
     ],
     "prompt_number": 9
    },
    {
     "cell_type": "code",
     "collapsed": false,
     "input": [
      "model.sed.plot()"
     ],
     "language": "python",
     "metadata": {},
     "outputs": [
      {
       "metadata": {},
       "output_type": "pyout",
       "prompt_number": 10,
       "text": [
        "<matplotlib.axes.AxesSubplot at 0x10987ae90>"
       ]
      }
     ],
     "prompt_number": 10
    },
    {
     "cell_type": "code",
     "collapsed": false,
     "input": [
      "model.plot_image(1.0, axes_units='pixels')"
     ],
     "language": "python",
     "metadata": {},
     "outputs": [],
     "prompt_number": 11
    },
    {
     "cell_type": "code",
     "collapsed": false,
     "input": [
      "model??"
     ],
     "language": "python",
     "metadata": {},
     "outputs": [],
     "prompt_number": 12
    },
    {
     "cell_type": "code",
     "collapsed": false,
     "input": [
      "print model.sed.nu_fnu"
     ],
     "language": "python",
     "metadata": {},
     "outputs": [
      {
       "output_type": "stream",
       "stream": "stdout",
       "text": [
        "[[  9.80528254e-14   1.25453237e-13   1.62691529e-13   2.11345684e-13\n",
        "    2.73144571e-13   3.46583385e-13   4.46033103e-13   5.66850657e-13\n",
        "    7.33852378e-13   9.89953453e-13   1.13563596e-12   1.09619876e-12\n",
        "    9.29107811e-13   7.10730032e-13   5.06844187e-13   3.35305541e-13\n",
        "    2.16672763e-13   1.39075803e-13   9.47540522e-14   8.05993591e-14\n",
        "    7.66001913e-14   1.43826628e-13   1.77551563e-13   1.32482702e-13\n",
        "    1.13833964e-13   1.10398249e-13   8.50034290e-14   6.31735468e-14\n",
        "    4.82403627e-14   6.22783617e-14   2.88453953e-14   2.14215446e-14\n",
        "    1.61150085e-14   1.24721324e-14   9.54748941e-15   7.12503617e-15\n",
        "    5.49159920e-15   4.55689495e-15   3.89372237e-15   3.25414261e-15\n",
        "    2.66609380e-15   2.10703617e-15   1.48800110e-15   9.79759198e-16\n",
        "    5.84059710e-16   3.16533671e-16   1.60198865e-16   7.61560838e-17\n",
        "    3.13843342e-17   1.29380320e-17]\n",
        " [  9.85428847e-14   1.25575304e-13   1.63261955e-13   2.11826704e-13\n",
        "    2.73547515e-13   3.62347712e-13   4.54223546e-13   5.68023493e-13\n",
        "    7.37814866e-13   9.91163640e-13   1.13230009e-12   1.09687552e-12\n",
        "    9.28777454e-13   7.20268734e-13   5.04277067e-13   3.35365741e-13\n",
        "    2.19090303e-13   1.38453322e-13   9.35066437e-14   8.44408500e-14\n",
        "    1.02854113e-13   1.40254345e-13   1.70012550e-13   1.29598833e-13\n",
        "    1.08673921e-13   1.07171000e-13   8.03229147e-14   6.15583973e-14\n",
        "    4.72865663e-14   3.57293100e-14   2.73886765e-14   2.02667303e-14\n",
        "    1.52078210e-14   1.20184116e-14   8.77791932e-15   6.81573320e-15\n",
        "    5.52512392e-15   4.29133149e-15   3.97166422e-15   3.23228620e-15\n",
        "    2.59887623e-15   2.05591625e-15   1.48518810e-15   9.51490109e-16\n",
        "    5.85554512e-16   3.17432744e-16   1.59408371e-16   7.65664249e-17\n",
        "    3.15061746e-17   1.28949756e-17]\n",
        " [  9.85573724e-14   1.25524293e-13   1.63853035e-13   2.13936778e-13\n",
        "    2.73398410e-13   3.49962409e-13   4.45638426e-13   5.63853163e-13\n",
        "    7.37799849e-13   1.00181267e-12   1.13269637e-12   1.10199642e-12\n",
        "    9.28858336e-13   7.11605362e-13   5.04466748e-13   3.37974359e-13\n",
        "    2.17812503e-13   1.39098585e-13   9.89172259e-14   8.46894440e-14\n",
        "    9.88717639e-14   1.65404460e-13   1.74632498e-13   1.39546740e-13\n",
        "    1.11854279e-13   1.04964120e-13   7.81864807e-14   5.82554228e-14\n",
        "    4.39981439e-14   3.32560043e-14   2.58890860e-14   1.90827172e-14\n",
        "    1.44112881e-14   1.11368815e-14   8.23508471e-15   6.24938029e-15\n",
        "    4.73444534e-15   3.76806418e-15   3.24037727e-15   2.75459328e-15\n",
        "    2.33952872e-15   1.84654284e-15   1.34417257e-15   8.78798747e-16\n",
        "    5.33164253e-16   2.95798093e-16   1.51480117e-16   7.29850704e-17\n",
        "    3.00810318e-17   1.24920874e-17]\n",
        " [  9.87425473e-14   1.25605120e-13   1.63331642e-13   2.11109559e-13\n",
        "    2.73579960e-13   3.48962070e-13   4.47726600e-13   5.66210707e-13\n",
        "    7.34338751e-13   9.92843286e-13   1.13187617e-12   1.09476068e-12\n",
        "    9.27256210e-13   7.09872699e-13   5.04138940e-13   3.38848768e-13\n",
        "    2.17239882e-13   1.39331404e-13   1.00130455e-13   8.30170893e-14\n",
        "    8.57994096e-14   1.46965868e-13   1.73739088e-13   1.33235992e-13\n",
        "    1.04327639e-13   1.01234146e-13   7.38743105e-14   5.89467033e-14\n",
        "    4.07077699e-14   3.12089425e-14   2.47009783e-14   1.80505465e-14\n",
        "    1.35642408e-14   1.02108848e-14   7.67490878e-15   5.70980759e-15\n",
        "    4.36748229e-15   3.29347416e-15   2.92042031e-15   2.48200961e-15\n",
        "    2.06318994e-15   1.70585511e-15   1.22976669e-15   8.24551263e-16\n",
        "    5.11854175e-16   2.79336881e-16   1.44237005e-16   6.92385576e-17\n",
        "    2.90590005e-17   1.20115939e-17]\n",
        " [  9.89655135e-14   1.25563825e-13   1.62725004e-13   2.11616057e-13\n",
        "    2.75648319e-13   3.47884861e-13   4.47697462e-13   5.67692161e-13\n",
        "    7.38488751e-13   9.88319344e-13   1.12868460e-12   1.09761386e-12\n",
        "    9.31882284e-13   7.10315270e-13   5.07116647e-13   3.33755023e-13\n",
        "    2.17116892e-13   1.41883887e-13   1.03267926e-13   8.90974713e-14\n",
        "    7.83163614e-14   1.37197355e-13   1.75319909e-13   1.31727786e-13\n",
        "    9.91915697e-14   9.76276284e-14   7.30628123e-14   5.21474784e-14\n",
        "    3.91281652e-14   2.86308554e-14   2.25386116e-14   1.67121972e-14\n",
        "    1.24178672e-14   9.59565933e-15   7.12229009e-15   5.18989242e-15\n",
        "    3.94476161e-15   3.17766062e-15   2.67165965e-15   2.32851094e-15\n",
        "    2.00756803e-15   1.56923600e-15   1.19594519e-15   7.82214545e-16\n",
        "    4.83096348e-16   2.66541999e-16   1.40678673e-16   6.61882662e-17\n",
        "    2.80758236e-17   1.17283060e-17]\n",
        " [  9.89473328e-14   1.25637104e-13   1.62463752e-13   2.11939827e-13\n",
        "    2.73823526e-13   3.58073461e-13   4.47207402e-13   5.64983878e-13\n",
        "    7.30903456e-13   9.86260986e-13   1.12509860e-12   1.09744451e-12\n",
        "    9.25595104e-13   7.18141421e-13   5.02806943e-13   3.36147478e-13\n",
        "    2.17613159e-13   1.40326864e-13   9.73586649e-14   9.49417547e-14\n",
        "    8.40800750e-14   1.47915249e-13   1.73437938e-13   1.28542535e-13\n",
        "    1.03208146e-13   9.54828393e-14   6.98109444e-14   5.08291631e-14\n",
        "    3.67358935e-14   2.73343224e-14   2.05342996e-14   1.51923084e-14\n",
        "    1.12473795e-14   8.49427001e-15   6.27224043e-15   4.57987919e-15\n",
        "    3.41730720e-15   2.62372373e-15   2.14340480e-15   1.91400033e-15\n",
        "    1.61853639e-15   1.30315807e-15   9.70131293e-16   6.44180680e-16\n",
        "    4.03530255e-16   2.30930854e-16   1.21288104e-16   5.97726534e-17\n",
        "    2.56031491e-17   1.09856368e-17]\n",
        " [  9.84606548e-14   1.25432284e-13   1.62581672e-13   2.14384988e-13\n",
        "    2.71259035e-13   3.44171821e-13   4.42848178e-13   5.64200596e-13\n",
        "    7.27628949e-13   9.81445285e-13   1.11971337e-12   1.08704408e-12\n",
        "    9.20825157e-13   7.06269732e-13   5.07389541e-13   3.35757355e-13\n",
        "    2.18245574e-13   1.37665148e-13   9.84936349e-14   8.53087471e-14\n",
        "    1.13619658e-13   1.40281802e-13   1.66013443e-13   1.16342306e-13\n",
        "    9.51915277e-14   8.85597205e-14   6.26488810e-14   4.66174205e-14\n",
        "    3.40040292e-14   2.47171295e-14   1.83188696e-14   1.36921724e-14\n",
        "    1.01317007e-14   7.67945989e-15   5.48832372e-15   4.05587412e-15\n",
        "    2.83754809e-15   2.14664788e-15   1.72263335e-15   1.51275214e-15\n",
        "    1.23763330e-15   1.00248816e-15   7.84529433e-16   5.27940760e-16\n",
        "    3.29954723e-16   1.96795400e-16   1.06093788e-16   5.17754051e-17\n",
        "    2.29449380e-17   9.80801535e-18]\n",
        " [  1.22115946e-15   1.00578799e-15   1.87644437e-15   1.87839958e-14\n",
        "    9.72932469e-14   2.10658422e-13   3.42613253e-13   4.87054190e-13\n",
        "    6.71269952e-13   9.27966579e-13   1.07530792e-12   1.05728393e-12\n",
        "    9.03728481e-13   6.98426722e-13   4.93334106e-13   3.32691177e-13\n",
        "    2.12677207e-13   1.36191297e-13   9.71317278e-14   9.09186937e-14\n",
        "    8.40750267e-14   1.26268584e-13   1.48148665e-13   1.16177304e-13\n",
        "    8.55568397e-14   8.35051565e-14   5.69278511e-14   3.90399315e-14\n",
        "    2.88613128e-14   2.10183433e-14   1.56362858e-14   1.16494745e-14\n",
        "    8.75306992e-15   6.44788754e-15   4.76592066e-15   3.48128805e-15\n",
        "    2.36663250e-15   1.71508915e-15   1.31289080e-15   1.11832193e-15\n",
        "    9.32721553e-16   7.25717183e-16   5.85160800e-16   3.83068136e-16\n",
        "    2.58202641e-16   1.49801482e-16   7.96041564e-17   3.95881230e-17\n",
        "    1.81654173e-17   7.91998222e-18]\n",
        " [  7.07869802e-17   1.00776638e-16   1.46115394e-16   2.58957216e-16\n",
        "    3.76642967e-16   4.25470526e-16   5.29169593e-16   3.53594486e-16\n",
        "    5.44009504e-16   5.57904233e-16   6.20450999e-16   7.01011614e-16\n",
        "    5.15590649e-16   2.96765616e-16   3.48612159e-16   2.31429227e-16\n",
        "    3.33661207e-16   1.01523506e-15   2.81819720e-15   6.00480503e-15\n",
        "    7.60305752e-15   5.21291406e-17   4.64323477e-17   6.95331146e-16\n",
        "    1.49124777e-15   2.04689154e-15   4.03341885e-15   6.14310687e-15\n",
        "    7.73802968e-15   8.45866244e-15   8.63835879e-15   7.18997988e-15\n",
        "    5.96052426e-15   4.69113104e-15   3.58723197e-15   2.52002318e-15\n",
        "    1.71448341e-15   1.18932267e-15   8.20751209e-16   6.31662697e-16\n",
        "    5.19802150e-16   3.77484203e-16   2.95994181e-16   2.00432228e-16\n",
        "    1.36398404e-16   7.72870647e-17   4.53496940e-17   2.28372011e-17\n",
        "    1.09338884e-17   5.15317226e-18]\n",
        " [  5.88327314e-17   4.69500900e-17   4.77416158e-17   1.57534655e-16\n",
        "    1.78286671e-16   1.39492324e-16   3.15100306e-16   1.51875403e-16\n",
        "    1.54002316e-16   1.86966032e-16   1.63043890e-16   1.33585778e-16\n",
        "    7.15261421e-17   3.39578850e-17   1.64482830e-17   5.41590550e-18\n",
        "    2.81240230e-18   1.40603675e-18   7.64305322e-19   2.19667867e-19\n",
        "    1.05487313e-19   3.68063788e-21   2.37890391e-20   4.19552728e-19\n",
        "    4.94571785e-18   3.78150580e-17   1.92388698e-16   6.23690688e-16\n",
        "    1.38198317e-15   2.21020584e-15   2.69946287e-15   2.66693342e-15\n",
        "    2.25990762e-15   1.76965046e-15   1.33977986e-15   1.00513165e-15\n",
        "    7.25137812e-16   4.88389880e-16   3.00666521e-16   1.70080470e-16\n",
        "    8.86744036e-17   4.41419375e-17   2.11032535e-17   1.00415433e-17\n",
        "    4.87819013e-18   2.60539600e-18   1.34470844e-18   7.31501665e-19\n",
        "    3.53889218e-19   1.63623692e-19]] W / m2\n"
       ]
      }
     ],
     "prompt_number": 13
    },
    {
     "cell_type": "code",
     "collapsed": false,
     "input": [
      "print model.images[1.0]   #image_data[1][0].header"
     ],
     "language": "python",
     "metadata": {},
     "outputs": [
      {
       "output_type": "stream",
       "stream": "stdout",
       "text": [
        "<astropy.io.fits.hdu.image.PrimaryHDU object at 0x1098ae7d0>\n"
       ]
      }
     ],
     "prompt_number": 14
    },
    {
     "cell_type": "code",
     "collapsed": false,
     "input": [
      "mcfost par -rt"
     ],
     "language": "python",
     "metadata": {},
     "outputs": [
      {
       "ename": "SyntaxError",
       "evalue": "invalid syntax (<ipython-input-15-bb7b713e6d7b>, line 1)",
       "output_type": "pyerr",
       "traceback": [
        "\u001b[0;36m  File \u001b[0;32m\"<ipython-input-15-bb7b713e6d7b>\"\u001b[0;36m, line \u001b[0;32m1\u001b[0m\n\u001b[0;31m    mcfost par -rt\u001b[0m\n\u001b[0m             ^\u001b[0m\n\u001b[0;31mSyntaxError\u001b[0m\u001b[0;31m:\u001b[0m invalid syntax\n"
       ]
      }
     ],
     "prompt_number": 15
    },
    {
     "cell_type": "code",
     "collapsed": false,
     "input": [
      "%qtconsole"
     ],
     "language": "python",
     "metadata": {},
     "outputs": [],
     "prompt_number": 16
    },
    {
     "cell_type": "heading",
     "level": 2,
     "metadata": {},
     "source": [
      "Working with Observed Data"
     ]
    },
    {
     "cell_type": "code",
     "collapsed": false,
     "input": [
      "obs = mcfost.Observations('/Users/swolff/Disks/MCMC_Forward_Modeling/data_hd141569/')"
     ],
     "language": "python",
     "metadata": {},
     "outputs": [
      {
       "output_type": "stream",
       "stream": "stderr",
       "text": [
        "mcfost    : INFO     Found observations: HD141569ARetB_klipsum_t3_r25_320_crop.fits is image at 0.002\n"
       ]
      },
      {
       "output_type": "stream",
       "stream": "stderr",
       "text": [
        "mcfost    : INFO     Found observations: noisemap_crop.fits is IMAGE_UNCERT at 0.002\n"
       ]
      },
      {
       "output_type": "stream",
       "stream": "stderr",
       "text": [
        "mcfost    : INFO     Found observations: mask2_1belt.fits is mask at 0.002\n"
       ]
      },
      {
       "output_type": "stream",
       "stream": "stderr",
       "text": [
        "mcfost    : INFO     Found observations: hst_psf_606.fits is psf at 0.002\n"
       ]
      }
     ],
     "prompt_number": 19
    },
    {
     "cell_type": "code",
     "collapsed": false,
     "input": [
      "print obs.filenames"
     ],
     "language": "python",
     "metadata": {},
     "outputs": [
      {
       "ename": "AttributeError",
       "evalue": "'Observations' object has no attribute 'filenames'",
       "output_type": "pyerr",
       "traceback": [
        "\u001b[0;31m---------------------------------------------------------------------------\u001b[0m\n\u001b[0;31mAttributeError\u001b[0m                            Traceback (most recent call last)",
        "\u001b[0;32m<ipython-input-5-b5d93176bcec>\u001b[0m in \u001b[0;36m<module>\u001b[0;34m()\u001b[0m\n\u001b[0;32m----> 1\u001b[0;31m \u001b[0;32mprint\u001b[0m \u001b[0mobs\u001b[0m\u001b[0;34m.\u001b[0m\u001b[0mfilenames\u001b[0m\u001b[0;34m\u001b[0m\u001b[0m\n\u001b[0m",
        "\u001b[0;31mAttributeError\u001b[0m: 'Observations' object has no attribute 'filenames'"
       ]
      }
     ],
     "prompt_number": 5
    },
    {
     "cell_type": "code",
     "collapsed": false,
     "input": [
      "obs.sed_wavelengths"
     ],
     "language": "python",
     "metadata": {},
     "outputs": [
      {
       "output_type": "pyout",
       "prompt_number": 112,
       "text": [
        "<Quantity [  6.06000000e-01   8.14000000e-01   1.23500000e+00   1.66200000e+00\n",
        "   2.15000000e+00   3.60000000e+00   4.50000000e+00   5.80000000e+00\n",
        "   8.00000000e+00   3.40000000e+00   4.60000000e+00   1.20000000e+01\n",
        "   2.20000000e+01   2.40000000e+01   7.00000000e+01   8.40000000e+02] micron>"
       ]
      }
     ],
     "prompt_number": 112
    },
    {
     "cell_type": "code",
     "collapsed": false,
     "input": [
      "obs.plot_SED()"
     ],
     "language": "python",
     "metadata": {},
     "outputs": [
      {
       "output_type": "display_data",
       "png": "[encoded data removed]"
      }
     ],
     "prompt_number": 117
    },
    {
     "cell_type": "code",
     "collapsed": false,
     "input": [
      "obs.sed_uncertainty"
     ],
     "language": "python",
     "metadata": {},
     "outputs": [
      {
       "output_type": "pyout",
       "prompt_number": 121,
       "text": [
        "<Quantity [  3.00000000e-06   1.00000000e-05   5.00000000e-05   8.00000000e-05\n",
        "   9.00000000e-05   3.00000000e-05   5.00000000e-05   5.00000000e-05\n",
        "   5.00000000e-05   3.00000000e-05   4.00000000e-05   7.00000000e-05\n",
        "   8.90000000e-04   7.70000000e-04   1.08000000e-02   3.00000000e-03] W / (m2)>"
       ]
      }
     ],
     "prompt_number": 121
    },
    {
     "cell_type": "code",
     "collapsed": false,
     "input": [
      "par.star"
     ],
     "language": "python",
     "metadata": {},
     "outputs": [
      {
       "metadata": {},
       "output_type": "pyout",
       "prompt_number": 9,
       "text": [
        "[{'fUV': 0.1,\n",
        "  'mass': 1.0,\n",
        "  'radius': 2.0,\n",
        "  'slope_fUV': 2.2,\n",
        "  'spectrum': 'lte4000-3.5.NextGen.fits.gz',\n",
        "  'temp': 4000.0,\n",
        "  'x': 0.0,\n",
        "  'y': 0.0,\n",
        "  'z': 0.0}]"
       ]
      }
     ],
     "prompt_number": 9
    },
    {
     "cell_type": "code",
     "collapsed": false,
     "input": [
      "names = par.star[0].keys()\n",
      "values = np.asarray(par.star[0].values())\n",
      "dtypes = ['a30' if n=='spectrum' else 'f8' for n in names]\n",
      "print names, values, dtypes\n",
      "\n",
      "#np.array(par.star[0].items(), dtype=dtypes)"
     ],
     "language": "python",
     "metadata": {},
     "outputs": [
      {
       "output_type": "stream",
       "stream": "stdout",
       "text": [
        "['fUV', 'temp', 'spectrum', 'mass', 'x', 'y', 'radius', 'slope_fUV', 'z'] ['0.1' '4000.0' 'lte4000-3.5.NextGen.fits.gz' '1.0' '0.0' '0.0' '2.0' '2.2'\n",
        " '0.0'] ['f8', 'f8', 'a30', 'f8', 'f8', 'f8', 'f8', 'f8', 'f8']\n"
       ]
      }
     ],
     "prompt_number": 23
    },
    {
     "cell_type": "code",
     "collapsed": false,
     "input": [
      "np.dtype(2.2)"
     ],
     "language": "python",
     "metadata": {},
     "outputs": [
      {
       "output_type": "stream",
       "stream": "stderr",
       "text": [
        "ERROR:astropy:TypeError: data type not understood\n"
       ]
      },
      {
       "ename": "TypeError",
       "evalue": "data type not understood",
       "output_type": "pyerr",
       "traceback": [
        "\u001b[0;31m---------------------------------------------------------------------------\u001b[0m\n\u001b[0;31mTypeError\u001b[0m                                 Traceback (most recent call last)",
        "\u001b[0;32m<ipython-input-14-19fa31d4b981>\u001b[0m in \u001b[0;36m<module>\u001b[0;34m()\u001b[0m\n\u001b[0;32m----> 1\u001b[0;31m \u001b[0mnp\u001b[0m\u001b[0;34m.\u001b[0m\u001b[0mdtype\u001b[0m\u001b[0;34m(\u001b[0m\u001b[0;36m2.2\u001b[0m\u001b[0;34m)\u001b[0m\u001b[0;34m\u001b[0m\u001b[0m\n\u001b[0m",
        "\u001b[0;31mTypeError\u001b[0m: data type not understood"
       ]
      },
      {
       "output_type": "stream",
       "stream": "stdout",
       "text": [
        "ERROR: TypeError: data type not understood [IPython.core.interactiveshell]\n"
       ]
      }
     ],
     "prompt_number": 14
    },
    {
     "cell_type": "code",
     "collapsed": false,
     "input": [],
     "language": "python",
     "metadata": {},
     "outputs": []
    }
   ],
   "metadata": {}
  }
 ]
}