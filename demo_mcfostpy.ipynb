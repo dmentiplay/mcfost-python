{
 "metadata": {
  "name": "demo_mcfostpy"
 },
 "nbformat": 3,
 "nbformat_minor": 0,
 "worksheets": [
  {
   "cells": [
    {
     "cell_type": "heading",
     "level": 1,
     "metadata": {},
     "source": [
      "MCFOST Python Library Demo"
     ]
    },
    {
     "cell_type": "markdown",
     "metadata": {},
     "source": [
      "This demo assumes you are running this notebook from a directory containing a subdirectory named 'example' which contains the results of running MCFOST on the ref2.19.para sample parameter file, to produce an SED and an image at 1.0 microns, as follows:\n",
      "\n",
      "   >  mcfost ref2.19.para -rt\n",
      "\n",
      "   >  mcfost ref2.19.para -img 1.0 -rt"
     ]
    },
    {
     "cell_type": "code",
     "collapsed": false,
     "input": [
      "%load_ext autoreload\n",
      "%autoreload 1\n",
      "%aimport mcfost"
     ],
     "language": "python",
     "metadata": {},
     "outputs": [],
     "prompt_number": 10
    },
    {
     "cell_type": "markdown",
     "metadata": {},
     "source": [
      "Quick test of the extinction calculator:"
     ]
    },
    {
     "cell_type": "code",
     "collapsed": false,
     "input": [
      "print mcfost.ccm_extinction(3.1,[0.15,0.2,0.3,0.4,0.5,0.6,0.7,0.8,0.9,1.0,1.1,1.2])"
     ],
     "language": "python",
     "metadata": {},
     "outputs": [
      {
       "output_type": "stream",
       "stream": "stdout",
       "text": [
        "[2.9412120145311889, 2.8826042451925091, 1.3779783496377978, 0.79933597944183554, 0.43391579900019034, 0.25539263915866195, 0.16192278757283834, 0.068039947104659992, 0.018101707546389907, 0.015161290322580623, 0.013004508444133112, 0.011304578083237237]\n"
       ]
      }
     ],
     "prompt_number": 11
    },
    {
     "cell_type": "heading",
     "level": 2,
     "metadata": {},
     "source": [
      "Working with Parameter Files"
     ]
    },
    {
     "cell_type": "markdown",
     "metadata": {},
     "source": [
      "We can read in parameter files into an object:"
     ]
    },
    {
     "cell_type": "code",
     "collapsed": false,
     "input": [
      "par = mcfost.Paramfile('/Users/schuylerwolff/eods/mcfost-python/docs/example/ref2.19.para')"
     ],
     "language": "python",
     "metadata": {},
     "outputs": [],
     "prompt_number": 12
    },
    {
     "cell_type": "markdown",
     "metadata": {},
     "source": [
      "The resulting object's attributes provide read/write access to all the settings in that parameter file."
     ]
    },
    {
     "cell_type": "code",
     "collapsed": false,
     "input": [
      "print \"Distance:\", par.distance, 'pc'\n",
      "print \"Wavelength range:\", par.lambda_min, \" to\", par.lambda_max, \"microns\"\n",
      "\n",
      "print \"Changing distance to 200 pc\"\n",
      "par.distance = 200\n",
      "print \"Distance:\", par.distance, 'pc'\n"
     ],
     "language": "python",
     "metadata": {},
     "outputs": [
      {
       "output_type": "stream",
       "stream": "stdout",
       "text": [
        "Distance: 140.0 pc\n",
        "Wavelength range: 0.1  to 3000.0 microns\n",
        "Changing distance to 200 pc\n",
        "Distance: 200 pc\n"
       ]
      }
     ],
     "prompt_number": 13
    },
    {
     "cell_type": "markdown",
     "metadata": {},
     "source": [
      "This also includes some quantities which are computed from the parameters, not directly stated in the parameter file:"
     ]
    },
    {
     "cell_type": "code",
     "collapsed": false,
     "input": [
      "print \"Wavelengths\", par.wavelengths\n",
      "print \"Inclinations in RT mode: \", par.inclinations"
     ],
     "language": "python",
     "metadata": {},
     "outputs": [
      {
       "output_type": "stream",
       "stream": "stdout",
       "text": [
        "Wavelengths [  1.10859065e-01   1.36242824e-01   1.67438785e-01   2.05777785e-01\n",
        "   2.52895390e-01   3.10801666e-01   3.81966929e-01   4.69427133e-01\n",
        "   5.76913383e-01   7.09011107e-01   8.71355674e-01   1.07087280e+00\n",
        "   1.31607401e+00   1.61741974e+00   1.98776557e+00   2.44291068e+00\n",
        "   3.00227185e+00   3.68971175e+00   4.53455699e+00   5.57284917e+00\n",
        "   6.84888248e+00   8.41709327e+00   1.03443824e+01   1.27129691e+01\n",
        "   1.56238987e+01   1.92013534e+01   2.35979494e+01   2.90012482e+01\n",
        "   3.56417578e+01   4.38027665e+01   5.38324276e+01   6.61586128e+01\n",
        "   8.13071645e+01   9.99243290e+01   1.22804326e+02   1.50923230e+02\n",
        "   1.85480610e+02   2.27950706e+02   2.80145316e+02   3.44291096e+02\n",
        "   4.23124542e+02   5.20008738e+02   6.39076821e+02   7.85408309e+02\n",
        "   9.65245791e+02   1.18626124e+03   1.45788332e+03   1.79169958e+03\n",
        "   2.20195083e+03   2.70613864e+03]\n",
        "Inclinations in RT mode:  [ 45.          51.05755873  56.63491198  61.8744943   66.86885233\n",
        "  71.68326929  76.36697777  80.95936896  85.49377425  90.        ]\n"
       ]
      }
     ],
     "prompt_number": 14
    },
    {
     "cell_type": "markdown",
     "metadata": {},
     "source": [
      "Some of the items which can be repeated multiple times in a parameter files are stored as lists of dicts.  For instance, there's a \"density_zones\" list attribute (which can have multiple entries if there are multiple zones defined), each of which in turn contains a \"dust\" list attribute (which can have multiple entries if that zone has more than one type of dust.)"
     ]
    },
    {
     "cell_type": "code",
     "collapsed": false,
     "input": [
      "print par.density_zones"
     ],
     "language": "python",
     "metadata": {},
     "outputs": [
      {
       "output_type": "stream",
       "stream": "stdout",
       "text": [
        "[{'debris_disk_vertical_profile_exponent': 2.0, 'scale_height': 10.0, 'gamma_exp': 0.0, 'flaring_exp': 1.125, 'r_in': 1.0, 'r_out': 300.0, 'gas_to_dust_ratio': 100.0, 'dust_mass': 0.001, 'dust': [{'amin': 0.03, 'mass_fraction': 1.0, 'ngrains': 100, 'aexp': 3.5, 'heating': 1, 'grain_type': 'Mie', 'filename': 'Draine_Si_sUV.dat', 'mixing_rule': 2, 'ncomponents': 1, 'porosity': 0.0, 'volume_fraction': 1.0, 'amax': 1000.0}], 'edge': 0.0, 'grain_type': 'Mie', 'dust_nspecies': 1, 'zone_type': 1, 'r_critical': 100.0, 'reference_radius': 100.0, 'surface_density_exp': -0.5}]\n"
       ]
      }
     ],
     "prompt_number": 15
    },
    {
     "cell_type": "markdown",
     "metadata": {},
     "source": [
      "**Cautionary Note:** The API for this all could use some cleanup; the names used for the various different parameter settings are not entirely consistent. We should think some about how much we can try for consistent naming conventions between the Python, IDL, Yorick variable names and the name/descriptions used in the software manual.  And furthermore the Python code here is not yet consistent in terms of using objects with attributes versus dicts. This needs to be made better, time permitting. "
     ]
    },
    {
     "cell_type": "markdown",
     "metadata": {},
     "source": [
      "You can of course get a parameter file back into text form just by casting it to a string, and there is a \".writeto()\" method to save it to a file."
     ]
    },
    {
     "cell_type": "code",
     "collapsed": false,
     "input": [
      "print par"
     ],
     "language": "python",
     "metadata": {},
     "outputs": [
      {
       "output_type": "stream",
       "stream": "stdout",
       "text": [
        "2.19                      mcfost version\n",
        "\n",
        "#Number of photon packages\n",
        "  1.28e+05                nbr_photons_eq_th  : T computation\n",
        "  1280                    nbr_photons_lambda : SED computation\n",
        "  1.28e+05                nbr_photons_image : images computation\n",
        "\n",
        "#Wavelength\n",
        "  50  0.1   3000          n_lambda, lambda_min, lambda_max [microns]\n",
        "  T T T                   compute temperature?, compute sed?, use default wavelength grid ?\n",
        "  IMLup.lambda           wavelength file (if previous parameter is F)\n",
        "  F T                     separation of different contributions?, stokes parameters?\n",
        "\n",
        "#Grid geometry and size\n",
        "  1                       1 = cylindrical, 2 = spherical, 3 = Voronoi tesselation (this is in beta, please ask Christophe)\n",
        "  100  70  1 20           n_rad (log distribution), nz (or n_theta), n_az, n_rad_in\n",
        "\n",
        "#Maps\n",
        "  101 101 3000.0        grid (nx,ny), size [AU]\n",
        "  10 1               MC : N_bin_incl, N_bin_az\n",
        "  45.0  90.0  10 F    RT: imin, imax, n_incl, centered ?\n",
        "  200.00                 distance (pc)\n",
        "  0.00                    disk PA\n",
        "  \n",
        "#Scattering method\n",
        "  0                      0=auto, 1=grain prop, 2=cell prop\n",
        "  1                      1=Mie, 2=hg (2 implies the loss of polarizarion) \n",
        "\n",
        "#Symmetries\n",
        "  T                      image symmetry\n",
        "  T                      central symmetry\n",
        "  T                      axial symmetry (important only if N_phi > 1)\n",
        "\n",
        "#Disk physics\n",
        "  3  0.50    1.00        dust_settling (0=no settling, 1=parametric, 2=Dubrulle, 3=Fromang), exp_strat, a_strat (for parametric settling)\n",
        "  F                       dust radial migration\n",
        "  F                      sublimate dust\n",
        "  F                       hydrostatic equilibrium\n",
        "  F  1e-05                 viscous heating, alpha_viscosity\n",
        "\n",
        "#Number of zones : 1 zone = 1 density structure + corresponding grain properties\n",
        "  1\n",
        "      \n",
        "#Density structure\n",
        "  1                       zone type : 1 = disk, 2 = tapered-edge disk, 3 = envelope, 4 = debris disk, 5 = wall\n",
        "  1.00e-03   100.0        dust mass,  gas-to-dust mass ratio\n",
        "  10.0   100.0  2.0             scale height, reference radius (AU), unused for envelope, vertical profile exponent (only for debris disk)\n",
        "  1.0     0.0    300.0  100.0   Rin, edge, Rout, Rc (AU) Rc is only used for tappered-edge & debris disks (Rout set to 8*Rc if Rout==0)\n",
        "  1.125                     flaring exponent, unused for envelope\n",
        "  -0.500 0.000                 surface density exponent (or -gamma for tappered-edge disk or volume density for envelope), usually < 0, -gamma_exp (or alpha_in & alpha_out for debris disk)\n",
        "        \n",
        "#Cavity : everything is empty above the surface\n",
        "  F                        cavity ?\n",
        "  15.0   50.0              height, reference radius (AU)\n",
        "  1.5                      flaring exponent\n",
        "        \n",
        "#Grain properties\n",
        "  1                       Number of species\n",
        "  Mie 1  2 0.00  1.00  0.9     Grain type (Mie or DHS), N_components, mixing rule (1 = EMT or 2 = coating),  porosity, mass fraction, Vmax (for DHS)\n",
        "  Draine_Si_sUV.dat  1.0    Optical indices file, volume fraction\n",
        "  1                       Heating method : 1 = RE + LTE, 2 = RE + NLTE, 3 = NRE\n",
        "  0.030  1000.0   3.5 100   amin, amax, aexp, nbr_grains\n",
        "       \n",
        "#Molecular RT settings\n",
        "  T T T 15.              lpop, laccurate_pop, LTE, profile width\n",
        "  0.2                    v_turb (delta)\n",
        "  1                      nmol\n",
        "  co@xpol.dat 6          molecular data filename, level_max\n",
        "  1.0 50                 vmax (km.s-1), n_speed\n",
        "  T 1.e-6 abundance.fits.gz   cst molecule abundance ?, abundance, abundance file\n",
        "  T  3                   ray tracing ?,  number of lines in ray-tracing\n",
        "  1 2 3                  transition numbers\n",
        "      \n",
        "#Star properties\n",
        "  1 Number of stars\n",
        "  4000.0    2.0   1.0   0.0   0.0   0.0 T       Temp, radius (solar radius),M (solar mass),x,y,z (AU), is a blackbody?\n",
        "  lte4000-3.5.NextGen.fits.gz\n",
        "  0.1    2.2       fUV, slope_fUV \n"
       ]
      }
     ],
     "prompt_number": 16
    },
    {
     "cell_type": "heading",
     "level": 2,
     "metadata": {},
     "source": [
      "Working with Model Results"
     ]
    },
    {
     "cell_type": "markdown",
     "metadata": {},
     "source": [
      "The ModelResults class provides an interface to work with MCFOST model results for *a single model*. You instantiate it with a directory path to an MCFOST results directory (i.e. the parent directory that contains 'data_th' as a subdirectory.)\n"
     ]
    },
    {
     "cell_type": "code",
     "collapsed": false,
     "input": [
      "%load_ext autoreload\n",
      "%autoreload 2\n",
      "%aimport mcfost\n",
      "reload(mcfost)"
     ],
     "language": "python",
     "metadata": {},
     "outputs": [
      {
       "output_type": "stream",
       "stream": "stderr",
       "text": [
        "[autoreload of mcfost.chisqr failed: Traceback (most recent call last):\n",
        "  File \"/Users/schuylerwolff/anaconda/lib/python2.7/site-packages/IPython/extensions/autoreload.py\", line 243, in check\n",
        "    superreload(m, reload, self.old_objects)\n",
        "  File \"mcfost/chisqr.py\", line 148\n",
        "    def fit_dist_extinct(wavelength, observed_sed_nuFnu, model, Rv=None, modeldist=None, sed_noise_frac=None,additional_free=None, logfit=False, error_observed=error_observed_sed_nuFnu,scaled=vout, distance_range=[0.0,1000.0], vary_av=True, vary_distance=True, av_range=[0.0,10.0],rv_range,vary_rv, **kwargs):\n",
        "SyntaxError: non-default argument follows default argument\n",
        "]\n"
       ]
      },
      {
       "output_type": "pyout",
       "prompt_number": 17,
       "text": [
        "<module 'mcfost' from 'mcfost/__init__.pyc'>"
       ]
      }
     ],
     "prompt_number": 17
    },
    {
     "cell_type": "markdown",
     "metadata": {},
     "source": [
      "MCFOST calculations may be executed for a given parameter file or for many parameter files at once. Note that this will move the parameter file to the ipython notebook directory and run MCFOST there. "
     ]
    },
    {
     "cell_type": "code",
     "collapsed": false,
     "input": [
      "res = mcfost.run_one_file('/Users/schuylerwolff/eods/mcfost-python/docs/example/ref2.19.para')"
     ],
     "language": "python",
     "metadata": {},
     "outputs": [
      {
       "output_type": "stream",
       "stream": "stderr",
       "text": [
        "mcfost    : INFO     Running MCFOST for: /Users/schuylerwolff/eods/mcfost-python/docs/example/ref2.19.para\n"
       ]
      },
      {
       "output_type": "stream",
       "stream": "stderr",
       "text": [
        "mcfost    : INFO     Relocating ref2.19.para to a subdirectory of the same name.\n"
       ]
      },
      {
       "ename": "OSError",
       "evalue": "[Errno 17] File exists: 'ref2.19'",
       "output_type": "pyerr",
       "traceback": [
        "\u001b[0;31m---------------------------------------------------------------------------\u001b[0m\n\u001b[0;31mOSError\u001b[0m                                   Traceback (most recent call last)",
        "\u001b[0;32m<ipython-input-18-a787e0ad551e>\u001b[0m in \u001b[0;36m<module>\u001b[0;34m()\u001b[0m\n\u001b[0;32m----> 1\u001b[0;31m \u001b[0mres\u001b[0m \u001b[0;34m=\u001b[0m \u001b[0mmcfost\u001b[0m\u001b[0;34m.\u001b[0m\u001b[0mrun_one_file\u001b[0m\u001b[0;34m(\u001b[0m\u001b[0;34m'/Users/schuylerwolff/eods/mcfost-python/docs/example/ref2.19.para'\u001b[0m\u001b[0;34m)\u001b[0m\u001b[0;34m\u001b[0m\u001b[0m\n\u001b[0m",
        "\u001b[0;32m/Users/schuylerwolff/EODs/mcfost-python/mcfost/run.pyc\u001b[0m in \u001b[0;36mrun_one_file\u001b[0;34m(filename, wavelengths, move_to_subdir)\u001b[0m\n\u001b[1;32m     57\u001b[0m         \u001b[0m_log\u001b[0m\u001b[0;34m.\u001b[0m\u001b[0minfo\u001b[0m\u001b[0;34m(\u001b[0m\u001b[0;34m\"Relocating {0} to a subdirectory of the same name.\"\u001b[0m\u001b[0;34m.\u001b[0m\u001b[0mformat\u001b[0m\u001b[0;34m(\u001b[0m\u001b[0mos\u001b[0m\u001b[0;34m.\u001b[0m\u001b[0mpath\u001b[0m\u001b[0;34m.\u001b[0m\u001b[0mbasename\u001b[0m\u001b[0;34m(\u001b[0m\u001b[0mfilename\u001b[0m\u001b[0;34m)\u001b[0m\u001b[0;34m)\u001b[0m\u001b[0;34m)\u001b[0m\u001b[0;34m\u001b[0m\u001b[0m\n\u001b[1;32m     58\u001b[0m         \u001b[0mmodelname\u001b[0m \u001b[0;34m=\u001b[0m \u001b[0mos\u001b[0m\u001b[0;34m.\u001b[0m\u001b[0mpath\u001b[0m\u001b[0;34m.\u001b[0m\u001b[0msplitext\u001b[0m\u001b[0;34m(\u001b[0m\u001b[0mos\u001b[0m\u001b[0;34m.\u001b[0m\u001b[0mpath\u001b[0m\u001b[0;34m.\u001b[0m\u001b[0mbasename\u001b[0m\u001b[0;34m(\u001b[0m\u001b[0mfilename\u001b[0m\u001b[0;34m)\u001b[0m\u001b[0;34m)\u001b[0m\u001b[0;34m[\u001b[0m\u001b[0;36m0\u001b[0m\u001b[0;34m]\u001b[0m\u001b[0;34m\u001b[0m\u001b[0m\n\u001b[0;32m---> 59\u001b[0;31m         \u001b[0mos\u001b[0m\u001b[0;34m.\u001b[0m\u001b[0mmkdir\u001b[0m\u001b[0;34m(\u001b[0m\u001b[0mmodelname\u001b[0m\u001b[0;34m)\u001b[0m\u001b[0;34m\u001b[0m\u001b[0m\n\u001b[0m\u001b[1;32m     60\u001b[0m         \u001b[0msubprocess\u001b[0m\u001b[0;34m.\u001b[0m\u001b[0mcall\u001b[0m\u001b[0;34m(\u001b[0m\u001b[0;34m'chmod -R g+w '\u001b[0m\u001b[0;34m+\u001b[0m\u001b[0mmodelname\u001b[0m\u001b[0;34m,\u001b[0m\u001b[0mshell\u001b[0m\u001b[0;34m=\u001b[0m\u001b[0mTrue\u001b[0m\u001b[0;34m)\u001b[0m\u001b[0;34m\u001b[0m\u001b[0m\n\u001b[1;32m     61\u001b[0m         \u001b[0msubprocess\u001b[0m\u001b[0;34m.\u001b[0m\u001b[0mcall\u001b[0m\u001b[0;34m(\u001b[0m\u001b[0;34m'mv '\u001b[0m\u001b[0;34m+\u001b[0m\u001b[0mfilename\u001b[0m\u001b[0;34m+\u001b[0m\u001b[0;34m' '\u001b[0m\u001b[0;34m+\u001b[0m\u001b[0mmodelname\u001b[0m\u001b[0;34m,\u001b[0m\u001b[0mshell\u001b[0m\u001b[0;34m=\u001b[0m\u001b[0mTrue\u001b[0m\u001b[0;34m)\u001b[0m\u001b[0;34m\u001b[0m\u001b[0m\n",
        "\u001b[0;31mOSError\u001b[0m: [Errno 17] File exists: 'ref2.19'"
       ]
      }
     ],
     "prompt_number": 18
    },
    {
     "cell_type": "code",
     "collapsed": false,
     "input": [
      "model = mcfost.ModelResults('/Users/schuylerwolff/eods/mcfost-python/docs/example/')\n",
      "print model\n",
      "model.image_data.filenames"
     ],
     "language": "python",
     "metadata": {},
     "outputs": [
      {
       "ename": "AttributeError",
       "evalue": "'ModelResults' object has no attribute 'image_data'",
       "output_type": "pyerr",
       "traceback": [
        "\u001b[0;31m---------------------------------------------------------------------------\u001b[0m\n\u001b[0;31mAttributeError\u001b[0m                            Traceback (most recent call last)",
        "\u001b[0;32m<ipython-input-28-1615bb6e35c4>\u001b[0m in \u001b[0;36m<module>\u001b[0;34m()\u001b[0m\n\u001b[1;32m      1\u001b[0m \u001b[0mmodel\u001b[0m \u001b[0;34m=\u001b[0m \u001b[0mmcfost\u001b[0m\u001b[0;34m.\u001b[0m\u001b[0mModelResults\u001b[0m\u001b[0;34m(\u001b[0m\u001b[0;34m'/Users/schuylerwolff/eods/mcfost-python/docs/example/'\u001b[0m\u001b[0;34m)\u001b[0m\u001b[0;34m\u001b[0m\u001b[0m\n\u001b[1;32m      2\u001b[0m \u001b[0;32mprint\u001b[0m \u001b[0mmodel\u001b[0m\u001b[0;34m\u001b[0m\u001b[0m\n\u001b[0;32m----> 3\u001b[0;31m \u001b[0mmodel\u001b[0m\u001b[0;34m.\u001b[0m\u001b[0mimage_data\u001b[0m\u001b[0;34m.\u001b[0m\u001b[0mfilenames\u001b[0m\u001b[0;34m\u001b[0m\u001b[0m\n\u001b[0m",
        "\u001b[0;31mAttributeError\u001b[0m: 'ModelResults' object has no attribute 'image_data'"
       ]
      },
      {
       "output_type": "stream",
       "stream": "stdout",
       "text": [
        "<MCFOST ModelResults in directory '/Users/schuylerwolff/eods/mcfost-python/docs/example'>\n"
       ]
      }
     ],
     "prompt_number": 28
    },
    {
     "cell_type": "code",
     "collapsed": false,
     "input": [
      "model.plot_SED()"
     ],
     "language": "python",
     "metadata": {},
     "outputs": [
      {
       "output_type": "stream",
       "stream": "stderr",
       "text": [
        "astropy   : WARNING  Converting Quantity object in units 'W / (m2)' to a Numpy array\n"
       ]
      },
      {
       "output_type": "stream",
       "stream": "stderr",
       "text": [
        "astropy   : WARNING  Converting Quantity object in units 'micron' to a Numpy array\n"
       ]
      },
      {
       "output_type": "stream",
       "stream": "stdout",
       "text": [
        "WARNING: Converting Quantity object in units 'W / (m2)' to a Numpy array [astropy.units.quantity]\n",
        "WARNING: Converting Quantity object in units 'micron' to a Numpy array [astropy.units.quantity]\n"
       ]
      }
     ],
     "prompt_number": 29
    },
    {
     "cell_type": "code",
     "collapsed": false,
     "input": [
      "model.plot_image(1.0, axes_units='pixels')"
     ],
     "language": "python",
     "metadata": {},
     "outputs": []
    },
    {
     "cell_type": "code",
     "collapsed": false,
     "input": [
      "model??"
     ],
     "language": "python",
     "metadata": {},
     "outputs": [],
     "prompt_number": 23
    },
    {
     "cell_type": "code",
     "collapsed": false,
     "input": [
      "import astropy.units as units\n",
      "model.sed.nu_fnu.to(units.W/units.cm**2)\n",
      "y=np.arange(\n"
     ],
     "language": "python",
     "metadata": {},
     "outputs": [],
     "prompt_number": 44
    },
    {
     "cell_type": "code",
     "collapsed": false,
     "input": [
      "amodel.image_data[1][0].header"
     ],
     "language": "python",
     "metadata": {},
     "outputs": [
      {
       "output_type": "pyout",
       "prompt_number": 13,
       "text": [
        "SIMPLE  =                    T / file does conform to FITS standard             \n",
        "BITPIX  =                  -32 / number of bits per data pixel                  \n",
        "NAXIS   =                    5 / number of data axes                            \n",
        "NAXIS1  =                  101 / length of data axis 1                          \n",
        "NAXIS2  =                  101 / length of data axis 2                          \n",
        "NAXIS3  =                    1 / length of data axis 3                          \n",
        "NAXIS4  =                    1 / length of data axis 4                          \n",
        "NAXIS5  =                    1 / length of data axis 5                          \n",
        "EXTEND  =                    T / FITS dataset may contain extensions            \n",
        "COMMENT   FITS (Flexible Image Transport System) format is defined in 'Astronomy\n",
        "COMMENT   and Astrophysics', volume 376, page 359; bibcode: 2001A&A...376..359H \n",
        "WAVE    =                   1. / wavelength [microns]                           \n",
        "CTYPE1  = 'RA---TAN'                                                            \n",
        "CRVAL1  =                   0. / RAD                                            \n",
        "CRPIX1  =                   51                                                  \n",
        "CDELT1  =            -5.89E-05 / pixel scale x [deg]                            \n",
        "CTYPE2  = 'DEC--TAN'                                                            \n",
        "CRVAL2  =                   0. / DEC                                            \n",
        "CRPIX2  =                   51                                                  \n",
        "CDELT2  =             5.89E-05 / pixel scale y [deg]                            "
       ]
      }
     ],
     "prompt_number": 13
    },
    {
     "cell_type": "code",
     "collapsed": false,
     "input": [
      "%qtconsole"
     ],
     "language": "python",
     "metadata": {},
     "outputs": [],
     "prompt_number": 33
    },
    {
     "cell_type": "heading",
     "level": 2,
     "metadata": {},
     "source": [
      "Working with Observed Data"
     ]
    },
    {
     "cell_type": "code",
     "collapsed": false,
     "input": [
      "obs = mcfostpy.Observations('/Users/mperrin/data/mcfost/models_esoha569/data')"
     ],
     "language": "python",
     "metadata": {},
     "outputs": [
      {
       "output_type": "stream",
       "stream": "stdout",
       "text": [
        "0 ['observed_sed.txt', 'SED']\n",
        "1 ['jbpj16021_drc_65.fits', 'image', '0.8']\n",
        "2 ['jbpj16011_drc_65.fits', 'image', '0.6']\n",
        "3 ['hst_psf_814.fits', 'psf', '0.8']\n",
        "4 ['hst_psf_606.fits', 'psf', '0.6']\n",
        "5 ['jbpj16021_drc_noise_lowlimit.fits', 'IMAGE_UNCERT', '0.8']\n",
        "6 ['jbpj16011_drc_noise.fits', 'IMAGE_UNCERT', '0.6']\n",
        "7 ['jbpj16011_drc_mask.fits', 'mask', '0.6']\n",
        "8 ['jbpj16021_drc_mask_peak.fits', 'mask', '0.8']\n"
       ]
      }
     ],
     "prompt_number": 110
    },
    {
     "cell_type": "code",
     "collapsed": false,
     "input": [
      "print obs.filenames"
     ],
     "language": "python",
     "metadata": {},
     "outputs": [
      {
       "output_type": "stream",
       "stream": "stdout",
       "text": [
        "['observed_sed.txt' 'jbpj16021_drc_65.fits' 'jbpj16011_drc_65.fits'\n",
        " 'hst_psf_814.fits' 'hst_psf_606.fits' 'jbpj16021_drc_noise_lowlimit.fits'\n",
        " 'jbpj16011_drc_noise.fits' 'jbpj16011_drc_mask.fits'\n",
        " 'jbpj16021_drc_mask_peak.fits']\n"
       ]
      }
     ],
     "prompt_number": 111
    },
    {
     "cell_type": "code",
     "collapsed": false,
     "input": [
      "obs.sed_wavelengths"
     ],
     "language": "python",
     "metadata": {},
     "outputs": [
      {
       "output_type": "pyout",
       "prompt_number": 112,
       "text": [
        "<Quantity [  6.06000000e-01   8.14000000e-01   1.23500000e+00   1.66200000e+00\n",
        "   2.15000000e+00   3.60000000e+00   4.50000000e+00   5.80000000e+00\n",
        "   8.00000000e+00   3.40000000e+00   4.60000000e+00   1.20000000e+01\n",
        "   2.20000000e+01   2.40000000e+01   7.00000000e+01   8.40000000e+02] micron>"
       ]
      }
     ],
     "prompt_number": 112
    },
    {
     "cell_type": "code",
     "collapsed": false,
     "input": [
      "obs.plot_SED()"
     ],
     "language": "python",
     "metadata": {},
     "outputs": [
      {
       "output_type": "display_data",
       "png": "[encoded data removed]"
      }
     ],
     "prompt_number": 117
    },
    {
     "cell_type": "code",
     "collapsed": false,
     "input": [
      "obs.sed_uncertainty"
     ],
     "language": "python",
     "metadata": {},
     "outputs": [
      {
       "output_type": "pyout",
       "prompt_number": 121,
       "text": [
        "<Quantity [  3.00000000e-06   1.00000000e-05   5.00000000e-05   8.00000000e-05\n",
        "   9.00000000e-05   3.00000000e-05   5.00000000e-05   5.00000000e-05\n",
        "   5.00000000e-05   3.00000000e-05   4.00000000e-05   7.00000000e-05\n",
        "   8.90000000e-04   7.70000000e-04   1.08000000e-02   3.00000000e-03] W / (m2)>"
       ]
      }
     ],
     "prompt_number": 121
    },
    {
     "cell_type": "code",
     "collapsed": false,
     "input": [
      "par.star"
     ],
     "language": "python",
     "metadata": {},
     "outputs": [
      {
       "metadata": {},
       "output_type": "pyout",
       "prompt_number": 9,
       "text": [
        "[{'fUV': 0.1,\n",
        "  'mass': 1.0,\n",
        "  'radius': 2.0,\n",
        "  'slope_fUV': 2.2,\n",
        "  'spectrum': 'lte4000-3.5.NextGen.fits.gz',\n",
        "  'temp': 4000.0,\n",
        "  'x': 0.0,\n",
        "  'y': 0.0,\n",
        "  'z': 0.0}]"
       ]
      }
     ],
     "prompt_number": 9
    },
    {
     "cell_type": "code",
     "collapsed": false,
     "input": [
      "names = par.star[0].keys()\n",
      "values = np.asarray(par.star[0].values())\n",
      "dtypes = ['a30' if n=='spectrum' else 'f8' for n in names]\n",
      "print names, values, dtypes\n",
      "\n",
      "#np.array(par.star[0].items(), dtype=dtypes)"
     ],
     "language": "python",
     "metadata": {},
     "outputs": [
      {
       "output_type": "stream",
       "stream": "stdout",
       "text": [
        "['fUV', 'temp', 'spectrum', 'mass', 'x', 'y', 'radius', 'slope_fUV', 'z'] ['0.1' '4000.0' 'lte4000-3.5.NextGen.fits.gz' '1.0' '0.0' '0.0' '2.0' '2.2'\n",
        " '0.0'] ['f8', 'f8', 'a30', 'f8', 'f8', 'f8', 'f8', 'f8', 'f8']\n"
       ]
      }
     ],
     "prompt_number": 23
    },
    {
     "cell_type": "code",
     "collapsed": false,
     "input": [
      "np.dtype(2.2)"
     ],
     "language": "python",
     "metadata": {},
     "outputs": [
      {
       "output_type": "stream",
       "stream": "stderr",
       "text": [
        "ERROR:astropy:TypeError: data type not understood\n"
       ]
      },
      {
       "ename": "TypeError",
       "evalue": "data type not understood",
       "output_type": "pyerr",
       "traceback": [
        "\u001b[0;31m---------------------------------------------------------------------------\u001b[0m\n\u001b[0;31mTypeError\u001b[0m                                 Traceback (most recent call last)",
        "\u001b[0;32m<ipython-input-14-19fa31d4b981>\u001b[0m in \u001b[0;36m<module>\u001b[0;34m()\u001b[0m\n\u001b[0;32m----> 1\u001b[0;31m \u001b[0mnp\u001b[0m\u001b[0;34m.\u001b[0m\u001b[0mdtype\u001b[0m\u001b[0;34m(\u001b[0m\u001b[0;36m2.2\u001b[0m\u001b[0;34m)\u001b[0m\u001b[0;34m\u001b[0m\u001b[0m\n\u001b[0m",
        "\u001b[0;31mTypeError\u001b[0m: data type not understood"
       ]
      },
      {
       "output_type": "stream",
       "stream": "stdout",
       "text": [
        "ERROR: TypeError: data type not understood [IPython.core.interactiveshell]\n"
       ]
      }
     ],
     "prompt_number": 14
    },
    {
     "cell_type": "code",
     "collapsed": false,
     "input": [
      "import numpy as np\n",
      "x=np.arange(10)"
     ],
     "language": "python",
     "metadata": {},
     "outputs": [],
     "prompt_number": 20
    },
    {
     "cell_type": "code",
     "collapsed": false,
     "input": [
      "x"
     ],
     "language": "python",
     "metadata": {},
     "outputs": [
      {
       "output_type": "pyout",
       "prompt_number": 21,
       "text": [
        "array([0, 1, 2, 3, 4, 5, 6, 7, 8, 9])"
       ]
      }
     ],
     "prompt_number": 21
    },
    {
     "cell_type": "code",
     "collapsed": false,
     "input": [
      "x[x<0]\n",
      "ind=x<0\n",
      "x[ind]"
     ],
     "language": "python",
     "metadata": {},
     "outputs": [
      {
       "output_type": "pyout",
       "prompt_number": 26,
       "text": [
        "array([], dtype=int64)"
       ]
      }
     ],
     "prompt_number": 26
    },
    {
     "cell_type": "code",
     "collapsed": false,
     "input": [
      "\n",
      "print ind\n"
     ],
     "language": "python",
     "metadata": {},
     "outputs": [
      {
       "output_type": "stream",
       "stream": "stdout",
       "text": [
        "[False False False False False False False False False False]\n"
       ]
      }
     ],
     "prompt_number": 27
    },
    {
     "cell_type": "code",
     "collapsed": false,
     "input": [],
     "language": "python",
     "metadata": {},
     "outputs": []
    }
   ],
   "metadata": {}
  }
 ]
}