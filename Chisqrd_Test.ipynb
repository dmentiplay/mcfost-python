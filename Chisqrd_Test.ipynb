{
 "metadata": {
  "name": "Chisqrd_Test"
 },
 "nbformat": 3,
 "nbformat_minor": 0,
 "worksheets": [
  {
   "cells": [
    {
     "cell_type": "code",
     "collapsed": false,
     "input": [
      "%load_ext autoreload\n",
      "%autoreload 2\n",
      "%aimport mcfost\n",
      "\n",
      "import numpy as np\n",
      "\n",
      "import matplotlib.pyplot as plt\n",
      "import image_registration\n"
     ],
     "language": "python",
     "metadata": {},
     "outputs": [],
     "prompt_number": 1
    },
    {
     "cell_type": "code",
     "collapsed": false,
     "input": [
      "modela = mcfost.ModelResults('/Users/schuylerwolff/EODs/models/esoha569_6603')\n",
      "print modela\n",
      "modela.describe()\n",
      "\n",
      "modelb = mcfost.ModelResults('/Users/schuylerwolff/EODs/models/esoha569_16446')\n",
      "print modelb\n",
      "modelb.describe()\n",
      "\n",
      "modelc = mcfost.ModelResults('/Users/schuylerwolff/EODs/models/esoha569_26537')\n",
      "print modelc\n",
      "modelc.describe()\n",
      "\n",
      "modeld = mcfost.ModelResults('/Users/schuylerwolff/EODs/models/esoha569_27480')\n",
      "print modeld\n",
      "modeld.describe()\n",
      "\n",
      "modele = mcfost.ModelResults('/Users/schuylerwolff/EODs/models/esoha569_27540')\n",
      "print modele\n",
      "modele.describe()\n",
      "\n",
      "modelf = mcfost.ModelResults('/Users/schuylerwolff/EODs/models/esoha569_28417')\n",
      "print modelf\n",
      "modelf.describe()"
     ],
     "language": "python",
     "metadata": {},
     "outputs": [
      {
       "output_type": "stream",
       "stream": "stdout",
       "text": [
        "<MCFOST ModelResults in directory '/Users/schuylerwolff/EODs/models/esoha569_6603'>\n",
        "Model results in /Users/schuylerwolff/EODs/models/esoha569_6603 for esoha569_6603.par\n",
        "    Model has 15 inclinations from 60.0 to 90.0\n",
        "    SED computed from 0.1 - 3500.0 microns using 30 wavelengths\n",
        "    Images computed for 1 wavelengths: [ 0.8] micron\n",
        "<MCFOST ModelResults in directory '/Users/schuylerwolff/EODs/models/esoha569_16446'>"
       ]
      },
      {
       "output_type": "stream",
       "stream": "stdout",
       "text": [
        "\n",
        "Model results in /Users/schuylerwolff/EODs/models/esoha569_16446 for esoha569_16446.par\n",
        "    Model has 15 inclinations from 60.0 to 90.0\n",
        "    SED computed from 0.1 - 3500.0 microns using 30 wavelengths\n",
        "    Images computed for 1 wavelengths: [ 0.8] micron\n",
        "<MCFOST ModelResults in directory '/Users/schuylerwolff/EODs/models/esoha569_26537'>"
       ]
      },
      {
       "output_type": "stream",
       "stream": "stdout",
       "text": [
        "\n",
        "Model results in /Users/schuylerwolff/EODs/models/esoha569_26537 for esoha569_26537.par\n",
        "    Model has 15 inclinations from 60.0 to 90.0\n",
        "    SED computed from 0.1 - 3500.0 microns using 30 wavelengths\n",
        "    Images computed for 1 wavelengths: [ 0.8] micron\n",
        "<MCFOST ModelResults in directory '/Users/schuylerwolff/EODs/models/esoha569_27480'>"
       ]
      },
      {
       "output_type": "stream",
       "stream": "stdout",
       "text": [
        "\n",
        "Model results in /Users/schuylerwolff/EODs/models/esoha569_27480 for esoha569_27480.par"
       ]
      },
      {
       "output_type": "stream",
       "stream": "stdout",
       "text": [
        "\n",
        "    Model has 15 inclinations from 60.0 to 90.0\n",
        "    SED computed from 0.1 - 3500.0 microns using 30 wavelengths\n",
        "    Images computed for 1 wavelengths: [ 0.8] micron\n",
        "<MCFOST ModelResults in directory '/Users/schuylerwolff/EODs/models/esoha569_27540'>"
       ]
      },
      {
       "output_type": "stream",
       "stream": "stdout",
       "text": [
        "\n",
        "Model results in /Users/schuylerwolff/EODs/models/esoha569_27540 for esoha569_27540.par"
       ]
      },
      {
       "output_type": "stream",
       "stream": "stdout",
       "text": [
        "\n",
        "    Model has 15 inclinations from 60.0 to 90.0\n",
        "    SED computed from 0.1 - 3500.0 microns using 30 wavelengths\n",
        "    Images computed for 1 wavelengths: [ 0.8] micron\n",
        "<MCFOST ModelResults in directory '/Users/schuylerwolff/EODs/models/esoha569_28417'>"
       ]
      },
      {
       "output_type": "stream",
       "stream": "stdout",
       "text": [
        "\n",
        "Model results in /Users/schuylerwolff/EODs/models/esoha569_28417 for esoha569_28417.par\n",
        "    Model has 15 inclinations from 60.0 to 90.0\n",
        "    SED computed from 0.1 - 3500.0 microns using 30 wavelengths\n",
        "    Images computed for 1 wavelengths: [ 0.8] micron\n"
       ]
      }
     ],
     "prompt_number": 2
    },
    {
     "cell_type": "code",
     "collapsed": false,
     "input": [
      "obs = mcfost.Observations('/Users/schuylerwolff/EODs/data')"
     ],
     "language": "python",
     "metadata": {},
     "outputs": [
      {
       "output_type": "stream",
       "stream": "stderr",
       "text": [
        "mcfost    : INFO     Found observations: observed_sed.txt is SED\n"
       ]
      },
      {
       "output_type": "stream",
       "stream": "stderr",
       "text": [
        "mcfost    : INFO     Found observations: jbpj16021_drc_65.fits is image at 0.8\n"
       ]
      },
      {
       "output_type": "stream",
       "stream": "stderr",
       "text": [
        "mcfost    : INFO     Found observations: jbpj16011_drc_65.fits is image at 0.6\n"
       ]
      },
      {
       "output_type": "stream",
       "stream": "stderr",
       "text": [
        "mcfost    : INFO     Found observations: hst_psf_814.fits is psf at 0.8\n"
       ]
      },
      {
       "output_type": "stream",
       "stream": "stderr",
       "text": [
        "mcfost    : INFO     Found observations: hst_psf_606.fits is psf at 0.6\n"
       ]
      },
      {
       "output_type": "stream",
       "stream": "stderr",
       "text": [
        "mcfost    : INFO     Found observations: jbpj16021_drc_noise_lowlimit.fits is IMAGE_UNCERT at 0.8\n"
       ]
      },
      {
       "output_type": "stream",
       "stream": "stderr",
       "text": [
        "mcfost    : INFO     Found observations: jbpj16011_drc_noise.fits is IMAGE_UNCERT at 0.6\n"
       ]
      },
      {
       "output_type": "stream",
       "stream": "stderr",
       "text": [
        "mcfost    : INFO     Found observations: jbpj16011_drc_mask.fits is mask at 0.6\n"
       ]
      },
      {
       "output_type": "stream",
       "stream": "stderr",
       "text": [
        "mcfost    : INFO     Found observations: jbpj16021_drc_mask_peak.fits is mask at 0.8\n"
       ]
      }
     ],
     "prompt_number": 3
    },
    {
     "cell_type": "code",
     "collapsed": false,
     "input": [
      "obs.sed.wavelength"
     ],
     "language": "python",
     "metadata": {},
     "outputs": [
      {
       "output_type": "pyout",
       "prompt_number": 5,
       "text": [
        "<Quantity [  6.06000000e-01   8.14000000e-01   1.23500000e+00   1.66200000e+00\n",
        "   2.15000000e+00   3.60000000e+00   4.50000000e+00   5.80000000e+00\n",
        "   8.00000000e+00   3.40000000e+00   4.60000000e+00   1.20000000e+01\n",
        "   2.20000000e+01   2.40000000e+01   7.00000000e+01   8.70000000e+02] micron>"
       ]
      }
     ],
     "prompt_number": 5
    },
    {
     "cell_type": "code",
     "collapsed": false,
     "input": [
      "im = obs.images\n",
      "mask = im[0.8].mask\n",
      "psf = im[0.8].psf\n",
      "image = im[0.8].image\n",
      "image = np.multiply(image,mask)\n",
      "model = modela.images[0.8].data\n",
      "model = np.asarray(model[0,0,0,:,:])\n",
      "\n",
      "model = image_registration.fft_tools.convolve_nd.convolvend(model,psf)\n",
      "weightgd=image.sum()/model.sum()\n",
      "model=model*weightgd\n",
      "dy,dx,xerr,yerr = image_registration.chi2_shifts.chi2_shift_iterzoom(model,image)\n",
      "\n",
      "\n",
      "print model.sum()\n",
      "print image.sum()\n",
      "#plt.imshow(image)\n",
      "#plt.imshow(model)\n",
      "print dy,dx"
     ],
     "language": "python",
     "metadata": {},
     "outputs": [
      {
       "output_type": "stream",
       "stream": "stdout",
       "text": [
        "1224.7411775\n",
        "1224.7411775\n",
        "-1.21875"
       ]
      },
      {
       "output_type": "stream",
       "stream": "stdout",
       "text": [
        " 7.65625\n"
       ]
      }
     ],
     "prompt_number": 4
    },
    {
     "cell_type": "code",
     "collapsed": false,
     "input": [
      "imagechia = mcfost.image_chisqr(modela, obs, wavelength=0.8)"
     ],
     "language": "python",
     "metadata": {},
     "outputs": [
      {
       "output_type": "stream",
       "stream": "stderr",
       "text": [
        "mcfost    : INFO     inclination 0 : 60.0 deg has chi2 = 2.19529e+06\n"
       ]
      },
      {
       "output_type": "stream",
       "stream": "stdout",
       "text": [
        "7.0 2.0\n",
        "7.0"
       ]
      },
      {
       "output_type": "stream",
       "stream": "stderr",
       "text": [
        "mcfost    : INFO     inclination 1 : 62.3 deg has chi2 = 2.44607e+06\n"
       ]
      },
      {
       "output_type": "stream",
       "stream": "stderr",
       "text": [
        "mcfost    : INFO     inclination 2 : 64.6 deg has chi2 = 2.44573e+06\n"
       ]
      },
      {
       "output_type": "stream",
       "stream": "stdout",
       "text": [
        " 2.0\n",
        "7.0 2.0\n",
        "7.0"
       ]
      },
      {
       "output_type": "stream",
       "stream": "stderr",
       "text": [
        "mcfost    : INFO     inclination 3 : 66.9 deg has chi2 = 2.26584e+06\n"
       ]
      },
      {
       "output_type": "stream",
       "stream": "stderr",
       "text": [
        "mcfost    : INFO     inclination 4 : 69.1 deg has chi2 = 2.12124e+06\n"
       ]
      },
      {
       "output_type": "stream",
       "stream": "stdout",
       "text": [
        " 2.0\n",
        "7.0 2.0\n",
        "7.0"
       ]
      },
      {
       "output_type": "stream",
       "stream": "stderr",
       "text": [
        "mcfost    : INFO     inclination 5 : 71.3 deg has chi2 = 1.98928e+06\n"
       ]
      },
      {
       "output_type": "stream",
       "stream": "stdout",
       "text": [
        " 2.0\n",
        "7.0"
       ]
      },
      {
       "output_type": "stream",
       "stream": "stderr",
       "text": [
        "mcfost    : INFO     inclination 6 : 73.4 deg has chi2 = 1.87708e+06\n"
       ]
      },
      {
       "output_type": "stream",
       "stream": "stderr",
       "text": [
        "mcfost    : INFO     inclination 7 : 75.5 deg has chi2 = 1.67336e+06\n"
       ]
      },
      {
       "output_type": "stream",
       "stream": "stdout",
       "text": [
        " 2.0\n",
        "6.0 2.0\n",
        "6.0"
       ]
      },
      {
       "output_type": "stream",
       "stream": "stderr",
       "text": [
        "mcfost    : INFO     inclination 8 : 77.6 deg has chi2 = 1.55666e+06\n"
       ]
      },
      {
       "output_type": "stream",
       "stream": "stderr",
       "text": [
        "mcfost    : INFO     inclination 9 : 79.7 deg has chi2 = 1.56355e+06\n"
       ]
      },
      {
       "output_type": "stream",
       "stream": "stdout",
       "text": [
        " 2.0\n",
        "6.0 2.0\n",
        "6.0"
       ]
      },
      {
       "output_type": "stream",
       "stream": "stderr",
       "text": [
        "mcfost    : INFO     inclination 10 : 81.8 deg has chi2 = 1.71445e+06\n"
       ]
      },
      {
       "output_type": "stream",
       "stream": "stderr",
       "text": [
        "mcfost    : INFO     inclination 11 : 83.8 deg has chi2 = 2.024e+06\n"
       ]
      },
      {
       "output_type": "stream",
       "stream": "stdout",
       "text": [
        " 2.0\n",
        "6.0 2.0\n",
        "7.0"
       ]
      },
      {
       "output_type": "stream",
       "stream": "stderr",
       "text": [
        "mcfost    : INFO     inclination 12 : 85.9 deg has chi2 = 1.77707e+06\n"
       ]
      },
      {
       "output_type": "stream",
       "stream": "stderr",
       "text": [
        "mcfost    : INFO     inclination 13 : 88.0 deg has chi2 = 1.77707e+06\n"
       ]
      },
      {
       "output_type": "stream",
       "stream": "stderr",
       "text": [
        "mcfost    : INFO     inclination 14 : 90.0 deg has chi2 = 1.59771e+06\n"
       ]
      },
      {
       "output_type": "stream",
       "stream": "stdout",
       "text": [
        " 2.0\n",
        "-0 -0\n",
        "8.0 2.0\n"
       ]
      }
     ],
     "prompt_number": 34
    },
    {
     "cell_type": "code",
     "collapsed": false,
     "input": [
      "imagechic = mcfost.image_chisqr(modelc, obs, wavelength=0.8)"
     ],
     "language": "python",
     "metadata": {},
     "outputs": [
      {
       "output_type": "stream",
       "stream": "stderr",
       "text": [
        "mcfost    : INFO     inclination 0 : 60.0 deg has chi2 = 2.06073e+06\n"
       ]
      },
      {
       "output_type": "stream",
       "stream": "stderr",
       "text": [
        "mcfost    : INFO     inclination 1 : 62.3 deg has chi2 = 1.86978e+06\n"
       ]
      },
      {
       "output_type": "stream",
       "stream": "stdout",
       "text": [
        "7.0 2.0\n",
        "7.0 2.0\n",
        "7.0"
       ]
      },
      {
       "output_type": "stream",
       "stream": "stderr",
       "text": [
        "mcfost    : INFO     inclination 2 : 64.6 deg has chi2 = 1.81187e+06\n"
       ]
      },
      {
       "output_type": "stream",
       "stream": "stdout",
       "text": [
        " 2.0\n",
        "7.0"
       ]
      },
      {
       "output_type": "stream",
       "stream": "stderr",
       "text": [
        "mcfost    : INFO     inclination 3 : 66.9 deg has chi2 = 1.68077e+06\n"
       ]
      },
      {
       "output_type": "stream",
       "stream": "stdout",
       "text": [
        " 2.0\n",
        "6.0"
       ]
      },
      {
       "output_type": "stream",
       "stream": "stderr",
       "text": [
        "mcfost    : INFO     inclination 4 : 69.1 deg has chi2 = 1.12409e+06\n"
       ]
      },
      {
       "output_type": "stream",
       "stream": "stderr",
       "text": [
        "mcfost    : INFO     inclination 5 : 71.3 deg has chi2 = 706607\n"
       ]
      },
      {
       "output_type": "stream",
       "stream": "stderr",
       "text": [
        "mcfost    : INFO     inclination 6 : 73.4 deg has chi2 = 376830\n"
       ]
      },
      {
       "output_type": "stream",
       "stream": "stdout",
       "text": [
        " 2.0\n",
        "6.0 2.0\n",
        "6.0 2.0\n",
        "5.0"
       ]
      },
      {
       "output_type": "stream",
       "stream": "stderr",
       "text": [
        "mcfost    : INFO     inclination 7 : 75.5 deg has chi2 = 301487\n"
       ]
      },
      {
       "output_type": "stream",
       "stream": "stderr",
       "text": [
        "mcfost    : INFO     inclination 8 : 77.6 deg has chi2 = 112158\n"
       ]
      },
      {
       "output_type": "stream",
       "stream": "stdout",
       "text": [
        " 3.0\n",
        "5.0 3.0\n",
        "5.0"
       ]
      },
      {
       "output_type": "stream",
       "stream": "stderr",
       "text": [
        "mcfost    : INFO     inclination 9 : 79.7 deg has chi2 = 164631\n"
       ]
      },
      {
       "output_type": "stream",
       "stream": "stderr",
       "text": [
        "mcfost    : INFO     inclination 10 : 81.8 deg has chi2 = 139490\n"
       ]
      },
      {
       "output_type": "stream",
       "stream": "stdout",
       "text": [
        " 3.0\n",
        "4.0 3.0\n",
        "3.0"
       ]
      },
      {
       "output_type": "stream",
       "stream": "stderr",
       "text": [
        "mcfost    : INFO     inclination 11 : 83.8 deg has chi2 = 305891\n"
       ]
      },
      {
       "output_type": "stream",
       "stream": "stderr",
       "text": [
        "mcfost    : INFO     inclination 12 : 85.9 deg has chi2 = 575557\n"
       ]
      },
      {
       "output_type": "stream",
       "stream": "stdout",
       "text": [
        " 3.0\n",
        "3.0 3.0\n",
        "2.0"
       ]
      },
      {
       "output_type": "stream",
       "stream": "stderr",
       "text": [
        "mcfost    : INFO     inclination 13 : 88.0 deg has chi2 = 1.07566e+06\n"
       ]
      },
      {
       "output_type": "stream",
       "stream": "stderr",
       "text": [
        "mcfost    : INFO     inclination 14 : 90.0 deg has chi2 = 1.79244e+06\n"
       ]
      },
      {
       "output_type": "stream",
       "stream": "stdout",
       "text": [
        " 3.0\n",
        "2.0 3.0\n"
       ]
      }
     ],
     "prompt_number": 35
    },
    {
     "cell_type": "code",
     "collapsed": false,
     "input": [
      "imagechid = mcfost.image_chisqr(modeld, obs, wavelength=0.8)"
     ],
     "language": "python",
     "metadata": {},
     "outputs": [
      {
       "output_type": "stream",
       "stream": "stderr",
       "text": [
        "mcfost    : INFO     inclination 0 : 60.0 deg has chi2 = 1.96661e+06\n"
       ]
      },
      {
       "output_type": "stream",
       "stream": "stderr",
       "text": [
        "mcfost    : INFO     inclination 1 : 62.3 deg has chi2 = 2.00831e+06\n"
       ]
      },
      {
       "output_type": "stream",
       "stream": "stdout",
       "text": [
        "8.0 2.0\n",
        "8.0 2.0\n",
        "8.0"
       ]
      },
      {
       "output_type": "stream",
       "stream": "stderr",
       "text": [
        "mcfost    : INFO     inclination 2 : 64.6 deg has chi2 = 2.04525e+06\n"
       ]
      },
      {
       "output_type": "stream",
       "stream": "stderr",
       "text": [
        "mcfost    : INFO     inclination 3 : 66.9 deg has chi2 = 2.12521e+06\n"
       ]
      },
      {
       "output_type": "stream",
       "stream": "stdout",
       "text": [
        " 2.0\n",
        "8.0 2.0\n",
        "8.0"
       ]
      },
      {
       "output_type": "stream",
       "stream": "stderr",
       "text": [
        "mcfost    : INFO     inclination 4 : 69.1 deg has chi2 = 2.2507e+06\n"
       ]
      },
      {
       "output_type": "stream",
       "stream": "stderr",
       "text": [
        "mcfost    : INFO     inclination 5 : 71.3 deg has chi2 = 1.69404e+06\n"
       ]
      },
      {
       "output_type": "stream",
       "stream": "stdout",
       "text": [
        " 2.0\n",
        "7.0 2.0\n",
        "7.0"
       ]
      },
      {
       "output_type": "stream",
       "stream": "stderr",
       "text": [
        "mcfost    : INFO     inclination 6 : 73.4 deg has chi2 = 1.2443e+06\n"
       ]
      },
      {
       "output_type": "stream",
       "stream": "stderr",
       "text": [
        "mcfost    : INFO     inclination 7 : 75.5 deg has chi2 = 843795\n"
       ]
      },
      {
       "output_type": "stream",
       "stream": "stdout",
       "text": [
        " 2.0\n",
        "7.0 2.0\n",
        "6.0"
       ]
      },
      {
       "output_type": "stream",
       "stream": "stderr",
       "text": [
        "mcfost    : INFO     inclination 8 : 77.6 deg has chi2 = 650683\n"
       ]
      },
      {
       "output_type": "stream",
       "stream": "stderr",
       "text": [
        "mcfost    : INFO     inclination 9 : 79.7 deg has chi2 = 801542\n"
       ]
      },
      {
       "output_type": "stream",
       "stream": "stdout",
       "text": [
        " 3.0\n",
        "6.0 3.0\n",
        "5.0"
       ]
      },
      {
       "output_type": "stream",
       "stream": "stderr",
       "text": [
        "mcfost    : INFO     inclination 10 : 81.8 deg has chi2 = 1.33805e+06\n"
       ]
      },
      {
       "output_type": "stream",
       "stream": "stderr",
       "text": [
        "mcfost    : INFO     inclination 11 : 83.8 deg has chi2 = 2.00661e+06\n"
       ]
      },
      {
       "output_type": "stream",
       "stream": "stdout",
       "text": [
        " 3.0\n",
        "5.0 3.0\n",
        "5.0"
       ]
      },
      {
       "output_type": "stream",
       "stream": "stderr",
       "text": [
        "mcfost    : INFO     inclination 12 : 85.9 deg has chi2 = 3.17389e+06\n"
       ]
      },
      {
       "output_type": "stream",
       "stream": "stderr",
       "text": [
        "mcfost    : INFO     inclination 13 : 88.0 deg has chi2 = 5.0319e+06\n"
       ]
      },
      {
       "output_type": "stream",
       "stream": "stdout",
       "text": [
        " 3.0\n",
        "4.0 3.0\n",
        "11.0"
       ]
      },
      {
       "output_type": "stream",
       "stream": "stderr",
       "text": [
        "mcfost    : INFO     inclination 14 : 90.0 deg has chi2 = 6.22912e+06\n"
       ]
      },
      {
       "output_type": "stream",
       "stream": "stdout",
       "text": [
        " 3.0\n"
       ]
      }
     ],
     "prompt_number": 36
    },
    {
     "cell_type": "code",
     "collapsed": false,
     "input": [
      "imagechie = mcfost.image_chisqr(modele, obs, wavelength=0.8)"
     ],
     "language": "python",
     "metadata": {},
     "outputs": [
      {
       "output_type": "stream",
       "stream": "stderr",
       "text": [
        "mcfost    : INFO     inclination 0 : 60.0 deg has chi2 = 1.50769e+06\n"
       ]
      },
      {
       "output_type": "stream",
       "stream": "stderr",
       "text": [
        "mcfost    : INFO     inclination 1 : 62.3 deg has chi2 = 1.5366e+06\n"
       ]
      },
      {
       "output_type": "stream",
       "stream": "stdout",
       "text": [
        "8.0 2.0\n",
        "8.0 2.0\n",
        "8.0"
       ]
      },
      {
       "output_type": "stream",
       "stream": "stderr",
       "text": [
        "mcfost    : INFO     inclination 2 : 64.6 deg has chi2 = 1.59764e+06\n"
       ]
      },
      {
       "output_type": "stream",
       "stream": "stderr",
       "text": [
        "mcfost    : INFO     inclination 3 : 66.9 deg has chi2 = 1.72095e+06\n"
       ]
      },
      {
       "output_type": "stream",
       "stream": "stdout",
       "text": [
        " 2.0\n",
        "8.0 2.0\n",
        "8.0"
       ]
      },
      {
       "output_type": "stream",
       "stream": "stderr",
       "text": [
        "mcfost    : INFO     inclination 4 : 69.1 deg has chi2 = 1.86104e+06\n"
       ]
      },
      {
       "output_type": "stream",
       "stream": "stderr",
       "text": [
        "mcfost    : INFO     inclination 5 : 71.3 deg has chi2 = 1.26207e+06\n"
       ]
      },
      {
       "output_type": "stream",
       "stream": "stdout",
       "text": [
        " 2.0\n",
        "7.0 2.0\n",
        "7.0"
       ]
      },
      {
       "output_type": "stream",
       "stream": "stderr",
       "text": [
        "mcfost    : INFO     inclination 6 : 73.4 deg has chi2 = 694638\n"
       ]
      },
      {
       "output_type": "stream",
       "stream": "stderr",
       "text": [
        "mcfost    : INFO     inclination 7 : 75.5 deg has chi2 = 542988\n"
       ]
      },
      {
       "output_type": "stream",
       "stream": "stdout",
       "text": [
        " 2.0\n",
        "6.0 3.0\n",
        "6.0"
       ]
      },
      {
       "output_type": "stream",
       "stream": "stderr",
       "text": [
        "mcfost    : INFO     inclination 8 : 77.6 deg has chi2 = 556458\n"
       ]
      },
      {
       "output_type": "stream",
       "stream": "stderr",
       "text": [
        "mcfost    : INFO     inclination 9 : 79.7 deg has chi2 = 929389\n"
       ]
      },
      {
       "output_type": "stream",
       "stream": "stdout",
       "text": [
        " 3.0\n",
        "6.0 3.0\n",
        "5.0"
       ]
      },
      {
       "output_type": "stream",
       "stream": "stderr",
       "text": [
        "mcfost    : INFO     inclination 10 : 81.8 deg has chi2 = 1.3852e+06\n"
       ]
      },
      {
       "output_type": "stream",
       "stream": "stderr",
       "text": [
        "mcfost    : INFO     inclination 11 : 83.8 deg has chi2 = 2.16875e+06\n"
       ]
      },
      {
       "output_type": "stream",
       "stream": "stdout",
       "text": [
        " 3.0\n",
        "5.0 3.0\n",
        "4.0"
       ]
      },
      {
       "output_type": "stream",
       "stream": "stderr",
       "text": [
        "mcfost    : INFO     inclination 12 : 85.9 deg has chi2 = 3.33145e+06\n"
       ]
      },
      {
       "output_type": "stream",
       "stream": "stderr",
       "text": [
        "mcfost    : INFO     inclination 13 : 88.0 deg has chi2 = 4.95567e+06\n"
       ]
      },
      {
       "output_type": "stream",
       "stream": "stderr",
       "text": [
        "mcfost    : INFO     inclination 14 : 90.0 deg has chi2 = 7.24631e+06\n"
       ]
      },
      {
       "output_type": "stream",
       "stream": "stdout",
       "text": [
        " 3.0\n",
        "4.0 3.0\n",
        "3.0 3.0\n"
       ]
      }
     ],
     "prompt_number": 37
    },
    {
     "cell_type": "code",
     "collapsed": false,
     "input": [
      "imagechif = mcfost.image_chisqr(modelf, obs, wavelength=0.8)"
     ],
     "language": "python",
     "metadata": {},
     "outputs": [
      {
       "output_type": "stream",
       "stream": "stderr",
       "text": [
        "mcfost    : INFO     inclination 0 : 60.0 deg has chi2 = 1.60656e+06\n"
       ]
      },
      {
       "output_type": "stream",
       "stream": "stderr",
       "text": [
        "mcfost    : INFO     inclination 1 : 62.3 deg has chi2 = 1.00576e+06\n"
       ]
      },
      {
       "output_type": "stream",
       "stream": "stdout",
       "text": [
        "8.0 2.0\n",
        "7.0 2.0\n",
        "7.0"
       ]
      },
      {
       "output_type": "stream",
       "stream": "stderr",
       "text": [
        "mcfost    : INFO     inclination 2 : 64.6 deg has chi2 = 688238\n"
       ]
      },
      {
       "output_type": "stream",
       "stream": "stdout",
       "text": [
        " 2.0\n",
        "7.0"
       ]
      },
      {
       "output_type": "stream",
       "stream": "stderr",
       "text": [
        "mcfost    : INFO     inclination 3 : 66.9 deg has chi2 = 464595\n"
       ]
      },
      {
       "output_type": "stream",
       "stream": "stderr",
       "text": [
        "mcfost    : INFO     inclination 4 : 69.1 deg has chi2 = 225361\n"
       ]
      },
      {
       "output_type": "stream",
       "stream": "stdout",
       "text": [
        " 2.0\n",
        "6.0 2.0\n",
        "6.0"
       ]
      },
      {
       "output_type": "stream",
       "stream": "stderr",
       "text": [
        "mcfost    : INFO     inclination 5 : 71.3 deg has chi2 = 132990\n"
       ]
      },
      {
       "output_type": "stream",
       "stream": "stderr",
       "text": [
        "mcfost    : INFO     inclination 6 : 73.4 deg has chi2 = 73590.4\n"
       ]
      },
      {
       "output_type": "stream",
       "stream": "stdout",
       "text": [
        " 3.0\n",
        "5.0 3.0\n",
        "5.0"
       ]
      },
      {
       "output_type": "stream",
       "stream": "stderr",
       "text": [
        "mcfost    : INFO     inclination 7 : 75.5 deg has chi2 = 147554\n"
       ]
      },
      {
       "output_type": "stream",
       "stream": "stderr",
       "text": [
        "mcfost    : INFO     inclination 8 : 77.6 deg has chi2 = 169551\n"
       ]
      },
      {
       "output_type": "stream",
       "stream": "stderr",
       "text": [
        "mcfost    : INFO     inclination 9 : 79.7 deg has chi2 = 328473\n"
       ]
      },
      {
       "output_type": "stream",
       "stream": "stdout",
       "text": [
        " 3.0\n",
        "4.0 3.0\n",
        "3.0 3.0\n",
        "3.0"
       ]
      },
      {
       "output_type": "stream",
       "stream": "stderr",
       "text": [
        "mcfost    : INFO     inclination 10 : 81.8 deg has chi2 = 447799\n"
       ]
      },
      {
       "output_type": "stream",
       "stream": "stderr",
       "text": [
        "mcfost    : INFO     inclination 11 : 83.8 deg has chi2 = 730648\n"
       ]
      },
      {
       "output_type": "stream",
       "stream": "stdout",
       "text": [
        " 3.0\n",
        "2.0 3.0\n",
        "2.0"
       ]
      },
      {
       "output_type": "stream",
       "stream": "stderr",
       "text": [
        "mcfost    : INFO     inclination 12 : 85.9 deg has chi2 = 1.00181e+06\n"
       ]
      },
      {
       "output_type": "stream",
       "stream": "stderr",
       "text": [
        "mcfost    : INFO     inclination 13 : 88.0 deg has chi2 = 1.48116e+06\n"
       ]
      },
      {
       "output_type": "stream",
       "stream": "stdout",
       "text": [
        " 3.0\n",
        "1.0 3.0\n",
        "1.0"
       ]
      },
      {
       "output_type": "stream",
       "stream": "stderr",
       "text": [
        "mcfost    : INFO     inclination 14 : 90.0 deg has chi2 = 1.96676e+06\n"
       ]
      },
      {
       "output_type": "stream",
       "stream": "stdout",
       "text": [
        " 3.0\n"
       ]
      }
     ],
     "prompt_number": 38
    },
    {
     "cell_type": "code",
     "collapsed": false,
     "input": [
      "sedchia = mcfost.sed_chisqr(modela, obs, dof=1, write=True, save=False, vary_distance=False,vary_AV=True, AV_range=[0.0])#AV_range=np.arange(0.0,10.25,0.25))"
     ],
     "language": "python",
     "metadata": {},
     "outputs": [
      {
       "output_type": "stream",
       "stream": "stderr",
       "text": [
        "mcfost    : INFO     inclination 0 : 60.0 deg has chi2 = 5.38035e+07\n"
       ]
      },
      {
       "output_type": "stream",
       "stream": "stderr",
       "text": [
        "mcfost    : INFO     inclination 1 : 62.3 deg has chi2 = 2.55445e+07\n"
       ]
      },
      {
       "output_type": "stream",
       "stream": "stderr",
       "text": [
        "mcfost    : INFO     inclination 2 : 64.6 deg has chi2 = 5.84457e+06\n"
       ]
      },
      {
       "output_type": "stream",
       "stream": "stderr",
       "text": [
        "mcfost    : INFO     inclination 3 : 66.9 deg has chi2 = 604695\n"
       ]
      },
      {
       "output_type": "stream",
       "stream": "stderr",
       "text": [
        "mcfost    : INFO     inclination 4 : 69.1 deg has chi2 = 63366\n"
       ]
      },
      {
       "output_type": "stream",
       "stream": "stderr",
       "text": [
        "mcfost    : INFO     inclination 5 : 71.3 deg has chi2 = 19304\n"
       ]
      },
      {
       "output_type": "stream",
       "stream": "stderr",
       "text": [
        "mcfost    : INFO     inclination 6 : 73.4 deg has chi2 = 8006.42\n"
       ]
      },
      {
       "output_type": "stream",
       "stream": "stderr",
       "text": [
        "mcfost    : INFO     inclination 7 : 75.5 deg has chi2 = 4217.02\n"
       ]
      },
      {
       "output_type": "stream",
       "stream": "stderr",
       "text": [
        "mcfost    : INFO     inclination 8 : 77.6 deg has chi2 = 2496.17\n"
       ]
      },
      {
       "output_type": "stream",
       "stream": "stderr",
       "text": [
        "mcfost    : INFO     inclination 9 : 79.7 deg has chi2 = 1474.97\n"
       ]
      },
      {
       "output_type": "stream",
       "stream": "stderr",
       "text": [
        "mcfost    : INFO     inclination 10 : 81.8 deg has chi2 = 1000.42\n"
       ]
      },
      {
       "output_type": "stream",
       "stream": "stderr",
       "text": [
        "mcfost    : INFO     inclination 11 : 83.8 deg has chi2 = 864.831\n"
       ]
      },
      {
       "output_type": "stream",
       "stream": "stderr",
       "text": [
        "mcfost    : INFO     inclination 12 : 85.9 deg has chi2 = 729.824\n"
       ]
      },
      {
       "output_type": "stream",
       "stream": "stderr",
       "text": [
        "mcfost    : INFO     inclination 13 : 88.0 deg has chi2 = 616.593\n"
       ]
      },
      {
       "output_type": "stream",
       "stream": "stderr",
       "text": [
        "mcfost    : INFO     inclination 14 : 90.0 deg has chi2 = 540.129\n"
       ]
      }
     ],
     "prompt_number": 39
    },
    {
     "cell_type": "code",
     "collapsed": false,
     "input": [
      "sedchib = mcfost.sed_chisqr(modelb,obs, dof=1, write=True, save=False, vary_distance=False,vary_AV=True,  AV_range=[0.0])#AV_range=np.arange(0.0,10.25,0.25))"
     ],
     "language": "python",
     "metadata": {},
     "outputs": [
      {
       "output_type": "stream",
       "stream": "stderr",
       "text": [
        "mcfost    : INFO     inclination 0 : 60.0 deg has chi2 = 8.55245e+06\n"
       ]
      },
      {
       "output_type": "stream",
       "stream": "stderr",
       "text": [
        "mcfost    : INFO     inclination 1 : 62.3 deg has chi2 = 8.56511e+06\n"
       ]
      },
      {
       "output_type": "stream",
       "stream": "stderr",
       "text": [
        "mcfost    : INFO     inclination 2 : 64.6 deg has chi2 = 8.47664e+06\n"
       ]
      },
      {
       "output_type": "stream",
       "stream": "stderr",
       "text": [
        "mcfost    : INFO     inclination 3 : 66.9 deg has chi2 = 8.04034e+06\n"
       ]
      },
      {
       "output_type": "stream",
       "stream": "stderr",
       "text": [
        "mcfost    : INFO     inclination 4 : 69.1 deg has chi2 = 7.16909e+06\n"
       ]
      },
      {
       "output_type": "stream",
       "stream": "stderr",
       "text": [
        "mcfost    : INFO     inclination 5 : 71.3 deg has chi2 = 5.33755e+06\n"
       ]
      },
      {
       "output_type": "stream",
       "stream": "stderr",
       "text": [
        "mcfost    : INFO     inclination 6 : 73.4 deg has chi2 = 3.02582e+06\n"
       ]
      },
      {
       "output_type": "stream",
       "stream": "stderr",
       "text": [
        "mcfost    : INFO     inclination 7 : 75.5 deg has chi2 = 1.13457e+06\n"
       ]
      },
      {
       "output_type": "stream",
       "stream": "stderr",
       "text": [
        "mcfost    : INFO     inclination 8 : 77.6 deg has chi2 = 272015\n"
       ]
      },
      {
       "output_type": "stream",
       "stream": "stderr",
       "text": [
        "mcfost    : INFO     inclination 9 : 79.7 deg has chi2 = 51301.3\n"
       ]
      },
      {
       "output_type": "stream",
       "stream": "stderr",
       "text": [
        "mcfost    : INFO     inclination 10 : 81.8 deg has chi2 = 16227.5\n"
       ]
      },
      {
       "output_type": "stream",
       "stream": "stderr",
       "text": [
        "mcfost    : INFO     inclination 11 : 83.8 deg has chi2 = 10980.7\n"
       ]
      },
      {
       "output_type": "stream",
       "stream": "stderr",
       "text": [
        "mcfost    : INFO     inclination 12 : 85.9 deg has chi2 = 9338.88\n"
       ]
      },
      {
       "output_type": "stream",
       "stream": "stderr",
       "text": [
        "mcfost    : INFO     inclination 13 : 88.0 deg has chi2 = 8479.33\n"
       ]
      },
      {
       "output_type": "stream",
       "stream": "stderr",
       "text": [
        "mcfost    : INFO     inclination 14 : 90.0 deg has chi2 = 8158.22\n"
       ]
      }
     ],
     "prompt_number": 28
    },
    {
     "cell_type": "code",
     "collapsed": false,
     "input": [
      "sedchic = mcfost.sed_chisqr(modelc,obs, dof=1, write=True, save=False, vary_distance=False,vary_AV=True, AV_range=[0.0])# AV_range=np.arange(0.0,10.25,0.25))"
     ],
     "language": "python",
     "metadata": {},
     "outputs": [
      {
       "output_type": "stream",
       "stream": "stderr",
       "text": [
        "mcfost    : INFO     inclination 0 : 60.0 deg has chi2 = 857208\n"
       ]
      },
      {
       "output_type": "stream",
       "stream": "stderr",
       "text": [
        "mcfost    : INFO     inclination 1 : 62.3 deg has chi2 = 704339\n"
       ]
      },
      {
       "output_type": "stream",
       "stream": "stderr",
       "text": [
        "mcfost    : INFO     inclination 2 : 64.6 deg has chi2 = 303568\n"
       ]
      },
      {
       "output_type": "stream",
       "stream": "stderr",
       "text": [
        "mcfost    : INFO     inclination 3 : 66.9 deg has chi2 = 48459.2\n"
       ]
      },
      {
       "output_type": "stream",
       "stream": "stderr",
       "text": [
        "mcfost    : INFO     inclination 4 : 69.1 deg has chi2 = 744.856\n"
       ]
      },
      {
       "output_type": "stream",
       "stream": "stderr",
       "text": [
        "mcfost    : INFO     inclination 5 : 71.3 deg has chi2 = 236.399\n"
       ]
      },
      {
       "output_type": "stream",
       "stream": "stderr",
       "text": [
        "mcfost    : INFO     inclination 6 : 73.4 deg has chi2 = 303.421\n"
       ]
      },
      {
       "output_type": "stream",
       "stream": "stderr",
       "text": [
        "mcfost    : INFO     inclination 7 : 75.5 deg has chi2 = 352.159\n"
       ]
      },
      {
       "output_type": "stream",
       "stream": "stderr",
       "text": [
        "mcfost    : INFO     inclination 8 : 77.6 deg has chi2 = 386.047\n"
       ]
      },
      {
       "output_type": "stream",
       "stream": "stderr",
       "text": [
        "mcfost    : INFO     inclination 9 : 79.7 deg has chi2 = 410.761\n"
       ]
      },
      {
       "output_type": "stream",
       "stream": "stderr",
       "text": [
        "mcfost    : INFO     inclination 10 : 81.8 deg has chi2 = 431.063\n"
       ]
      },
      {
       "output_type": "stream",
       "stream": "stderr",
       "text": [
        "mcfost    : INFO     inclination 11 : 83.8 deg has chi2 = 444.679\n"
       ]
      },
      {
       "output_type": "stream",
       "stream": "stderr",
       "text": [
        "mcfost    : INFO     inclination 12 : 85.9 deg has chi2 = 452.369\n"
       ]
      },
      {
       "output_type": "stream",
       "stream": "stderr",
       "text": [
        "mcfost    : INFO     inclination 13 : 88.0 deg has chi2 = 457.491\n"
       ]
      },
      {
       "output_type": "stream",
       "stream": "stderr",
       "text": [
        "mcfost    : INFO     inclination 14 : 90.0 deg has chi2 = 459.144\n"
       ]
      }
     ],
     "prompt_number": 29
    },
    {
     "cell_type": "code",
     "collapsed": false,
     "input": [
      "sedchid = mcfost.sed_chisqr(modeld, obs, dof=1, write=True, save=False, vary_distance=False,vary_AV=True, AV_range=[0.0])# AV_range=np.arange(0.0,10.25,0.25))"
     ],
     "language": "python",
     "metadata": {},
     "outputs": [
      {
       "output_type": "stream",
       "stream": "stderr",
       "text": [
        "mcfost    : INFO     inclination 0 : 60.0 deg has chi2 = 517006\n"
       ]
      },
      {
       "output_type": "stream",
       "stream": "stderr",
       "text": [
        "mcfost    : INFO     inclination 1 : 62.3 deg has chi2 = 523108\n"
       ]
      },
      {
       "output_type": "stream",
       "stream": "stderr",
       "text": [
        "mcfost    : INFO     inclination 2 : 64.6 deg has chi2 = 526016\n"
       ]
      },
      {
       "output_type": "stream",
       "stream": "stderr",
       "text": [
        "mcfost    : INFO     inclination 3 : 66.9 deg has chi2 = 528902\n"
       ]
      },
      {
       "output_type": "stream",
       "stream": "stderr",
       "text": [
        "mcfost    : INFO     inclination 4 : 69.1 deg has chi2 = 507095\n"
       ]
      },
      {
       "output_type": "stream",
       "stream": "stderr",
       "text": [
        "mcfost    : INFO     inclination 5 : 71.3 deg has chi2 = 396174\n"
       ]
      },
      {
       "output_type": "stream",
       "stream": "stderr",
       "text": [
        "mcfost    : INFO     inclination 6 : 73.4 deg has chi2 = 137060\n"
       ]
      },
      {
       "output_type": "stream",
       "stream": "stderr",
       "text": [
        "mcfost    : INFO     inclination 7 : 75.5 deg has chi2 = 10547.8\n"
       ]
      },
      {
       "output_type": "stream",
       "stream": "stderr",
       "text": [
        "mcfost    : INFO     inclination 8 : 77.6 deg has chi2 = 115.57\n"
       ]
      },
      {
       "output_type": "stream",
       "stream": "stderr",
       "text": [
        "mcfost    : INFO     inclination 9 : 79.7 deg has chi2 = 164.981\n"
       ]
      },
      {
       "output_type": "stream",
       "stream": "stderr",
       "text": [
        "mcfost    : INFO     inclination 10 : 81.8 deg has chi2 = 217.481\n"
       ]
      },
      {
       "output_type": "stream",
       "stream": "stderr",
       "text": [
        "mcfost    : INFO     inclination 11 : 83.8 deg has chi2 = 254.219\n"
       ]
      },
      {
       "output_type": "stream",
       "stream": "stderr",
       "text": [
        "mcfost    : INFO     inclination 12 : 85.9 deg has chi2 = 281.669\n"
       ]
      },
      {
       "output_type": "stream",
       "stream": "stderr",
       "text": [
        "mcfost    : INFO     inclination 13 : 88.0 deg has chi2 = 296.768\n"
       ]
      },
      {
       "output_type": "stream",
       "stream": "stderr",
       "text": [
        "mcfost    : INFO     inclination 14 : 90.0 deg has chi2 = 307.897\n"
       ]
      }
     ],
     "prompt_number": 30
    },
    {
     "cell_type": "code",
     "collapsed": false,
     "input": [
      "sedchie = mcfost.sed_chisqr(modele, obs, dof=1, write=True, save=False, vary_distance=False,vary_AV=True, AV_range=[0.0])# AV_range=np.arange(0.0,10.25,0.25))"
     ],
     "language": "python",
     "metadata": {},
     "outputs": [
      {
       "output_type": "stream",
       "stream": "stderr",
       "text": [
        "mcfost    : INFO     inclination 0 : 60.0 deg has chi2 = 2.19133e+06\n"
       ]
      },
      {
       "output_type": "stream",
       "stream": "stderr",
       "text": [
        "mcfost    : INFO     inclination 1 : 62.3 deg has chi2 = 2.21513e+06\n"
       ]
      },
      {
       "output_type": "stream",
       "stream": "stderr",
       "text": [
        "mcfost    : INFO     inclination 2 : 64.6 deg has chi2 = 2.22237e+06\n"
       ]
      },
      {
       "output_type": "stream",
       "stream": "stderr",
       "text": [
        "mcfost    : INFO     inclination 3 : 66.9 deg has chi2 = 2.20114e+06\n"
       ]
      },
      {
       "output_type": "stream",
       "stream": "stderr",
       "text": [
        "mcfost    : INFO     inclination 4 : 69.1 deg has chi2 = 1.93394e+06\n"
       ]
      },
      {
       "output_type": "stream",
       "stream": "stderr",
       "text": [
        "mcfost    : INFO     inclination 5 : 71.3 deg has chi2 = 1.06431e+06\n"
       ]
      },
      {
       "output_type": "stream",
       "stream": "stderr",
       "text": [
        "mcfost    : INFO     inclination 6 : 73.4 deg has chi2 = 155931\n"
       ]
      },
      {
       "output_type": "stream",
       "stream": "stderr",
       "text": [
        "mcfost    : INFO     inclination 7 : 75.5 deg has chi2 = 5626.76\n"
       ]
      },
      {
       "output_type": "stream",
       "stream": "stderr",
       "text": [
        "mcfost    : INFO     inclination 8 : 77.6 deg has chi2 = 328.518\n"
       ]
      },
      {
       "output_type": "stream",
       "stream": "stderr",
       "text": [
        "mcfost    : INFO     inclination 9 : 79.7 deg has chi2 = 177.278\n"
       ]
      },
      {
       "output_type": "stream",
       "stream": "stderr",
       "text": [
        "mcfost    : INFO     inclination 10 : 81.8 deg has chi2 = 125.167\n"
       ]
      },
      {
       "output_type": "stream",
       "stream": "stderr",
       "text": [
        "mcfost    : INFO     inclination 11 : 83.8 deg has chi2 = 115.352\n"
       ]
      },
      {
       "output_type": "stream",
       "stream": "stderr",
       "text": [
        "mcfost    : INFO     inclination 12 : 85.9 deg has chi2 = 126.08\n"
       ]
      },
      {
       "output_type": "stream",
       "stream": "stderr",
       "text": [
        "mcfost    : INFO     inclination 13 : 88.0 deg has chi2 = 137.836\n"
       ]
      },
      {
       "output_type": "stream",
       "stream": "stderr",
       "text": [
        "mcfost    : INFO     inclination 14 : 90.0 deg has chi2 = 137.308\n"
       ]
      }
     ],
     "prompt_number": 31
    },
    {
     "cell_type": "code",
     "collapsed": false,
     "input": [
      "sedchif = mcfost.sed_chisqr(modelf, obs, dof=1, write=True, save=False, vary_distance=False,vary_AV=True,  AV_range=[0.0])#AV_range=np.arange(0.0,10.25,0.25))"
     ],
     "language": "python",
     "metadata": {},
     "outputs": [
      {
       "output_type": "stream",
       "stream": "stderr",
       "text": [
        "mcfost    : INFO     inclination 0 : 60.0 deg has chi2 = 374291\n"
       ]
      },
      {
       "output_type": "stream",
       "stream": "stderr",
       "text": [
        "mcfost    : INFO     inclination 1 : 62.3 deg has chi2 = 222277\n"
       ]
      },
      {
       "output_type": "stream",
       "stream": "stderr",
       "text": [
        "mcfost    : INFO     inclination 2 : 64.6 deg has chi2 = 92530.3\n"
       ]
      },
      {
       "output_type": "stream",
       "stream": "stderr",
       "text": [
        "mcfost    : INFO     inclination 3 : 66.9 deg has chi2 = 27168.8\n"
       ]
      },
      {
       "output_type": "stream",
       "stream": "stderr",
       "text": [
        "mcfost    : INFO     inclination 4 : 69.1 deg has chi2 = 5768.4\n"
       ]
      },
      {
       "output_type": "stream",
       "stream": "stderr",
       "text": [
        "mcfost    : INFO     inclination 5 : 71.3 deg has chi2 = 949.66\n"
       ]
      },
      {
       "output_type": "stream",
       "stream": "stderr",
       "text": [
        "mcfost    : INFO     inclination 6 : 73.4 deg has chi2 = 215.296\n"
       ]
      },
      {
       "output_type": "stream",
       "stream": "stderr",
       "text": [
        "mcfost    : INFO     inclination 7 : 75.5 deg has chi2 = 122.949\n"
       ]
      },
      {
       "output_type": "stream",
       "stream": "stderr",
       "text": [
        "mcfost    : INFO     inclination 8 : 77.6 deg has chi2 = 103.479\n"
       ]
      },
      {
       "output_type": "stream",
       "stream": "stderr",
       "text": [
        "mcfost    : INFO     inclination 9 : 79.7 deg has chi2 = 93.5923\n"
       ]
      },
      {
       "output_type": "stream",
       "stream": "stderr",
       "text": [
        "mcfost    : INFO     inclination 10 : 81.8 deg has chi2 = 89.8869\n"
       ]
      },
      {
       "output_type": "stream",
       "stream": "stderr",
       "text": [
        "mcfost    : INFO     inclination 11 : 83.8 deg has chi2 = 91.2053\n"
       ]
      },
      {
       "output_type": "stream",
       "stream": "stderr",
       "text": [
        "mcfost    : INFO     inclination 12 : 85.9 deg has chi2 = 98.9328\n"
       ]
      },
      {
       "output_type": "stream",
       "stream": "stderr",
       "text": [
        "mcfost    : INFO     inclination 13 : 88.0 deg has chi2 = 100.363\n"
       ]
      },
      {
       "output_type": "stream",
       "stream": "stderr",
       "text": [
        "mcfost    : INFO     inclination 14 : 90.0 deg has chi2 = 99.4674\n"
       ]
      }
     ],
     "prompt_number": 32
    },
    {
     "cell_type": "code",
     "collapsed": false,
     "input": [
      "print sedchia, sedchib, sedchic, sedchid, sedchie, sedchif"
     ],
     "language": "python",
     "metadata": {},
     "outputs": [
      {
       "output_type": "stream",
       "stream": "stdout",
       "text": [
        "[  5.38034974e+07   2.55445095e+07   5.84457373e+06   6.04694956e+05\n",
        "   6.33660105e+04   1.93039786e+04   8.00642313e+03   4.21702357e+03\n",
        "   2.49617079e+03   1.47497188e+03   1.00041924e+03   8.64831247e+02\n",
        "   7.29823802e+02   6.16593259e+02   5.40128539e+02] [  8.55244851e+06   8.56510962e+06   8.47664105e+06   8.04033630e+06\n",
        "   7.16908801e+06   5.33754696e+06   3.02581759e+06   1.13457443e+06\n",
        "   2.72014751e+05   5.13012816e+04   1.62274767e+04   1.09806628e+04\n",
        "   9.33887982e+03   8.47933067e+03   8.15822059e+03] [  8.57207936e+05   7.04339258e+05   3.03567524e+05   4.84591681e+04\n",
        "   7.44855663e+02   2.36399215e+02   3.03421277e+02   3.52158722e+02\n",
        "   3.86046529e+02   4.10760896e+02   4.31062630e+02   4.44678555e+02\n",
        "   4.52369281e+02   4.57491109e+02   4.59143997e+02] [  5.17006009e+05   5.23107733e+05   5.26016013e+05   5.28902166e+05\n",
        "   5.07094612e+05   3.96174419e+05   1.37060174e+05   1.05478391e+04\n",
        "   1.15570069e+02   1.64981445e+02   2.17481071e+02   2.54219314e+02\n",
        "   2.81668914e+02   2.96768315e+02   3.07897310e+02] [  2.19132574e+06   2.21512905e+06   2.22236542e+06   2.20114096e+06\n",
        "   1.93394070e+06   1.06430511e+06   1.55931076e+05   5.62675810e+03\n",
        "   3.28517916e+02   1.77277700e+02   1.25166758e+02   1.15352086e+02\n",
        "   1.26080363e+02   1.37836127e+02   1.37308033e+02] [  3.74291478e+05   2.22277104e+05   9.25302832e+04   2.71688489e+04\n",
        "   5.76840130e+03   9.49659909e+02   2.15296068e+02   1.22948574e+02\n",
        "   1.03478745e+02   9.35922746e+01   8.98869247e+01   9.12053361e+01\n",
        "   9.89328461e+01   1.00362906e+02   9.94674231e+01]\n"
       ]
      }
     ],
     "prompt_number": 12
    },
    {
     "cell_type": "code",
     "collapsed": false,
     "input": [
      "x = np.arange(60.0, 90.0, 2.0)"
     ],
     "language": "python",
     "metadata": {},
     "outputs": [],
     "prompt_number": 13
    },
    {
     "cell_type": "code",
     "collapsed": false,
     "input": [
      "import astropy.io.fits as fits\n",
      "\n",
      "f = fits.open(\"/Users/schuylerwolff/Dropbox/MCFOST_testing/esoha569_6603/observables/sed_chisq.fits\") \n",
      "idlres = f[1].data[0]\n",
      "ya = idlres[1]\n",
      "print idlres\n",
      "\n",
      "f = fits.open(\"/Users/schuylerwolff/Dropbox/MCFOST_testing/esoha569_16446/observables/sed_chisq.fits\") \n",
      "idlres = f[1].data[0]\n",
      "yb = idlres[1]\n",
      "\n",
      "f = fits.open(\"/Users/schuylerwolff/Dropbox/MCFOST_testing/esoha569_26537/observables/sed_chisq.fits\") \n",
      "idlres = f[1].data[0]\n",
      "yc = idlres[1]\n",
      "\n",
      "f = fits.open(\"/Users/schuylerwolff/Dropbox/MCFOST_testing/esoha569_27480/observables/sed_chisq.fits\") \n",
      "idlres = f[1].data[0]\n",
      "yd = idlres[1]\n",
      "\n",
      "f = fits.open(\"/Users/schuylerwolff/Dropbox/MCFOST_testing/esoha569_27540/observables/sed_chisq.fits\") \n",
      "idlres = f[1].data[0]\n",
      "ye = idlres[1]\n",
      "\n",
      "f = fits.open(\"/Users/schuylerwolff/Dropbox/MCFOST_testing/esoha569_28417/observables/sed_chisq.fits\") \n",
      "idlres = f[1].data[0]\n",
      "yf = idlres[1]"
     ],
     "language": "python",
     "metadata": {},
     "outputs": [
      {
       "output_type": "stream",
       "stream": "stdout",
       "text": [
        "(array([  8.10961151,  14.06986141,  18.19487572,  21.56518555,\n",
        "        24.49465561,  27.12675667,  29.54136276,  31.78833008,\n",
        "        33.90126801,  35.90406799,  37.81448746,  39.64611435,\n",
        "        41.40962219,  43.11360931,  44.76508331,  46.36989212,\n",
        "        47.93294144,  49.45840073,  50.94988251,  52.41049957,\n",
        "        53.84299088,  55.24977875,  56.63298798,  57.99455261,\n",
        "        59.3361702 ,  60.6594162 ,  61.96570206,  63.25631714,\n",
        "        64.53244019,  65.79516602,  67.04550171,  68.28437805,\n",
        "        69.51268768,  70.73122406,  71.94077301,  73.14204407,\n",
        "        74.33573914,  75.52249146,  76.70293427,  77.8776474 ,\n",
        "        79.04721832,  80.21218109,  81.37308502,  82.53041077,\n",
        "        83.68469238,  84.83639526,  85.98601532,  87.13402557,\n",
        "        88.28087616,  89.42703247], dtype=float32), array([  5.37292560e+07,   2.55091640e+07,   5.83644400e+06,\n",
        "         6.03843438e+05,   6.32728789e+04,   1.92742598e+04,\n",
        "         7.99351562e+03,   4.20998193e+03,   2.49190405e+03,\n",
        "         1.47242944e+03,   9.98713745e+02,   8.63398865e+02,\n",
        "         7.28648926e+02,   6.15624084e+02,   5.39297485e+02], dtype=float32), array([ 160.,  160.,  160.,  160.,  160.,  160.,  160.,  160.,  160.,\n",
        "        160.,  160.,  160.,  160.,  160.,  160.], dtype=float32), array([ 0.,  0.,  0.,  0.,  0.,  0.,  0.,  0.,  0.,  0.,  0.,  0.,  0.,\n",
        "        0.,  0.], dtype=float32), array([ 3.0999999,  3.0999999,  3.0999999,  3.0999999,  3.0999999,\n",
        "        3.0999999,  3.0999999,  3.0999999,  3.0999999,  3.0999999,\n",
        "        3.0999999,  3.0999999,  3.0999999,  3.0999999,  3.0999999], dtype=float32))\n"
       ]
      }
     ],
     "prompt_number": 14
    },
    {
     "cell_type": "code",
     "collapsed": false,
     "input": [
      "plt.plot(x, sedchia,'b',label='Py 6603')\n",
      "plt.plot(x,ya,'b--',label='IDL 6603')\n",
      "plt.yscale(\"log\")\n",
      "plt.plot(x,sedchib,'g', label='Py 16446')\n",
      "plt.plot(x,yb,'g--',label='IDL 28417')\n",
      "plt.plot(x,sedchic,'r', label='Py 26537')\n",
      "plt.plot(x,yc,'r--',label='IDL 28417')\n",
      "plt.plot(x,sedchid,'y', label='Py 27480')\n",
      "plt.plot(x,yd,'y--',label='IDL 28417')\n",
      "plt.plot(x,sedchie,'c', label='Py 27540')\n",
      "plt.plot(x,ye,'c--',label='IDL 28417')\n",
      "plt.plot(x,sedchif,'m', label='Py 28417')\n",
      "plt.plot(x,yf,'m--',label='IDL 28417')\n",
      "plt.xlabel('Inclination')\n",
      "plt.ylabel('Chisqrd Value')\n",
      "plt.title('Python SED Chisqrds')\n",
      "plt.legend(ncol=2,loc=1)\n",
      "plt.show()"
     ],
     "language": "python",
     "metadata": {},
     "outputs": [],
     "prompt_number": 25
    },
    {
     "cell_type": "code",
     "collapsed": false,
     "input": [
      "plt.plot(x,(sedchia-ya)/ya,'b', label='Py - IDL 6603')\n",
      "plt.plot(x,(sedchib-yb)/yb,'g', label='Py - IDL 16446')\n",
      "plt.plot(x,(sedchic-yc)/yc,'r', label='Py - IDL 26537')\n",
      "plt.plot(x,(sedchid-yd)/yd,'y', label='Py - IDL 27480')\n",
      "plt.plot(x,(sedchie-ye)/ye,'c', label='Py - IDL 27540')\n",
      "plt.plot(x,(sedchif-yf)/yf,'m', label='Py - IDL 28417')\n",
      "plt.xlabel('Inclination')\n",
      "plt.ylabel('Chisqrd % Residuals')\n",
      "plt.title('Python SED Chisqrds')\n",
      "plt.legend(ncol=2,loc=1)\n",
      "plt.show()\n"
     ],
     "language": "python",
     "metadata": {},
     "outputs": [],
     "prompt_number": 22
    },
    {
     "cell_type": "code",
     "collapsed": false,
     "input": [
      "im = obs.images\n",
      "mask = im[0.8].mask\n",
      "image = im[0.8].image\n",
      "noise = im[0.8].uncertainty\n",
      "psf = im[0.8].psf\n",
      "plt.imshow(psf)\n",
      "\n",
      "\n",
      "\n",
      "plt.show()"
     ],
     "language": "python",
     "metadata": {},
     "outputs": [],
     "prompt_number": 251
    },
    {
     "cell_type": "code",
     "collapsed": false,
     "input": [
      "difference = ya-sedchia\n",
      "plt.plot(sedchia)\n",
      "plt.plot(ya)\n",
      "plt.plot(difference)\n",
      "plt.yscale(\"log\")\n",
      "plt.show()"
     ],
     "language": "python",
     "metadata": {},
     "outputs": [],
     "prompt_number": 200
    },
    {
     "cell_type": "code",
     "collapsed": false,
     "input": [
      "dictionary = dict()"
     ],
     "language": "python",
     "metadata": {},
     "outputs": [
      {
       "output_type": "stream",
       "stream": "stderr",
       "text": [
        "[autoreload of mcfost.models failed: Traceback (most recent call last):\n",
        "  File \"/Users/schuylerwolff/anaconda/lib/python2.7/site-packages/IPython/extensions/autoreload.py\", line 243, in check\n",
        "    superreload(m, reload, self.old_objects)\n",
        "  File \"mcfost/models.py\", line 904\n",
        "    self.observed_images[n]=ObservedImage(filename=filename, psffn=psffn, etc)\n",
        "SyntaxError: non-keyword arg after keyword arg\n",
        "]\n"
       ]
      }
     ],
     "prompt_number": 223
    },
    {
     "cell_type": "code",
     "collapsed": false,
     "input": [
      "f = fits.open(\"/Users/schuylerwolff/Dropbox/MCFOST_Testing/idl_results/chi2_6603.idl.fits\")\n",
      "imiya = f[0].data[0]\n",
      "print imiya\n",
      "\n",
      "f = fits.open(\"/Users/schuylerwolff/Dropbox/MCFOST_Testing/idl_results/chi2_26537.idl.fits\")\n",
      "imiyc = f[0].data[0]\n",
      "\n",
      "f = fits.open(\"/Users/schuylerwolff/Dropbox/MCFOST_Testing/idl_results/chi2_27480.idl.fits\")\n",
      "imiyd = f[0].data[0]\n",
      "\n",
      "f = fits.open(\"/Users/schuylerwolff/Dropbox/MCFOST_Testing/idl_results/chi2_27540.idl.fits\")\n",
      "imiye = f[0].data[0]\n",
      "\n",
      "f = fits.open(\"/Users/schuylerwolff/Dropbox/MCFOST_Testing/idl_results/chi2_28417.idl.fits\")\n",
      "imiyf = f[0].data[0]"
     ],
     "language": "python",
     "metadata": {},
     "outputs": [
      {
       "output_type": "stream",
       "stream": "stdout",
       "text": [
        "[  9670012.99396732  10881245.35737438  10698021.29228486\n",
        "   9423151.36005077   8191858.16554043   6899887.76899157\n",
        "   5612130.75700654   4538215.49993738   3611468.15339785\n",
        "   2952483.17283477   2556698.98316936   2393837.71509683\n",
        "   2352311.33047127   2257817.87426709   1935244.38416828]\n"
       ]
      }
     ],
     "prompt_number": 41
    },
    {
     "cell_type": "code",
     "collapsed": false,
     "input": [
      "f = fits.open(\"/Users/schuylerwolff/Dropbox/MCFOST_Testing/yorick_results/image_0.8_chi2_6603.fits.gz\")\n",
      "imya = f[0].data\n",
      "\n",
      "f = fits.open(\"/Users/schuylerwolff/Dropbox/MCFOST_Testing/yorick_results/image_0.8_chi2_26537.fits.gz\")\n",
      "imyc = f[0].data\n",
      "\n",
      "f = fits.open(\"/Users/schuylerwolff/Dropbox/MCFOST_Testing/yorick_results/image_0.8_chi2_27480.fits.gz\")\n",
      "imyd = f[0].data\n",
      "\n",
      "f = fits.open(\"/Users/schuylerwolff/Dropbox/MCFOST_Testing/yorick_results/image_0.8_chi2_27540.fits.gz\")\n",
      "imye = f[0].data\n",
      "\n",
      "f = fits.open(\"/Users/schuylerwolff/Dropbox/MCFOST_Testing/yorick_results/image_0.8_chi2_28417.fits.gz\")\n",
      "imyf = f[0].data"
     ],
     "language": "python",
     "metadata": {},
     "outputs": [],
     "prompt_number": 42
    },
    {
     "cell_type": "code",
     "collapsed": false,
     "input": [
      "plt.plot(x, imagechia,'b',label='Py 6603')\n",
      "plt.plot(x,imya,'b--',label='Yor 6603')\n",
      "plt.plot(x,imiya,'b:',label='IDL 6603')\n",
      "plt.yscale(\"log\")\n",
      "#plt.plot(x,imagechib,'g', label='Py 16446')\n",
      "#plt.plot(x,yb,'g--',label='IDL 28417')\n",
      "plt.plot(x,imagechic,'r', label='Py 26537')\n",
      "plt.plot(x,imyc,'r--',label='Yor 26537')\n",
      "plt.plot(x,imiyc,'r:',label='IDL 26537')\n",
      "plt.plot(x,imagechid,'y', label='Py 27480')\n",
      "plt.plot(x,imyd,'y--',label='Yor 27480')\n",
      "plt.plot(x,imiyd,'y:',label='IDL 27480')\n",
      "plt.plot(x,imagechie,'c', label='Py 27540')\n",
      "plt.plot(x,imye,'c--',label='Yor 27540')\n",
      "plt.plot(x,imiye,'c:',label='IDL 27540')\n",
      "plt.plot(x,imagechif,'m', label='Py 28417')\n",
      "plt.plot(x,imyf,'m--',label='Yor 28417')\n",
      "plt.plot(x,imiyf,'m:',label='IDL 28417')\n",
      "plt.xlabel('Inclination')\n",
      "plt.ylabel('Chisqrd Value')\n",
      "plt.title('Python Image Chisqrds')\n",
      "plt.legend(ncol=5,loc=9, prop={'size':14})\n",
      "plt.show()"
     ],
     "language": "python",
     "metadata": {},
     "outputs": [],
     "prompt_number": 44
    },
    {
     "cell_type": "code",
     "collapsed": false,
     "input": [],
     "language": "python",
     "metadata": {},
     "outputs": []
    }
   ],
   "metadata": {}
  }
 ]
}